{
 "cells": [
  {
   "cell_type": "markdown",
   "metadata": {},
   "source": [
    "# How to create a log file for the GoPiGo test"
   ]
  },
  {
   "cell_type": "markdown",
   "metadata": {},
   "source": [
    "## Log file format  \n",
    "Lets consider a log file example:  \n",
    "\n",
    "49173,gpg.mic,Start  \n",
    "65117,gpg.mic,street_music  \n",
    "82348,gpg.mic,gun_shot  \n",
    "88866,gpg.find_cone,blue,bottle  \n",
    "90647,gpg.mic,dog_bark  \n",
    "95237,gpg.mic,children_playing  \n",
    "126866,gpg.find_cone,red,book  \n",
    "183293,gpg.find_cone,yellow,suitcase  \n",
    "212194,gpg.find_cone,green,suitcase   \n",
    "212528,gpg.mic,Finish  \n",
    "\n",
    "Each row contains 3 or 4 comma separated fields:  \n",
    "- time in milliseconds elapsed since the start of the main logger;  \n",
    "- logger name  \n",
    "- log message (one or two fields)"
   ]
  },
  {
   "cell_type": "markdown",
   "metadata": {},
   "source": [
    "To create a log file we will use a package 'logging'.  \n",
    "We should initiate the parent logger object named 'gpg' and two child loggers: 'gpg.mic' (for sound recognition thread) and 'gpg.find_cone' (for visual objects recognition).  \n",
    "The parent logger 'gpg' will recieve the messages from all child loggers named 'gpg.*'"
   ]
  },
  {
   "cell_type": "markdown",
   "metadata": {},
   "source": [
    "In the main process:"
   ]
  },
  {
   "cell_type": "code",
   "execution_count": 1,
   "metadata": {},
   "outputs": [
    {
     "name": "stderr",
     "output_type": "stream",
     "text": [
      "    1974 gpg DEBUG Logger started\n"
     ]
    }
   ],
   "source": [
    "import logging\n",
    "main_logger = logging.getLogger('gpg')\n",
    "main_logger.setLevel(logging.DEBUG)\n",
    "fname = 'gopigo.log' # Any name for the log file\n",
    "\n",
    "# Create the FileHandler object. This is required!\n",
    "fh = logging.FileHandler(fname, mode='w')\n",
    "fh.setLevel(logging.INFO)  # Will write to the log file the messages with level >= logging.INFO\n",
    "\n",
    "# The following row is strongly recommended for the GoPiGo Test!\n",
    "fh_formatter = logging.Formatter('%(relativeCreated)d,%(name)s,%(message)s')\n",
    "fh.setFormatter(fh_formatter)\n",
    "main_logger.addHandler(fh)\n",
    "    \n",
    "# The StreamHandler is optional for you. Use it just to debug your program code\n",
    "sh = logging.StreamHandler()\n",
    "sh_formatter = logging.Formatter('%(relativeCreated)8d %(name)s %(levelname)s %(message)s')\n",
    "sh.setLevel(logging.DEBUG)\n",
    "sh.setFormatter(sh_formatter)\n",
    "main_logger.addHandler(sh)\n",
    "main_logger.debug('Logger started') # This debug message will be handled only by StreamHendler\n"
   ]
  },
  {
   "cell_type": "markdown",
   "metadata": {},
   "source": [
    "Logger for the sound recognition:"
   ]
  },
  {
   "cell_type": "code",
   "execution_count": 2,
   "metadata": {},
   "outputs": [
    {
     "name": "stderr",
     "output_type": "stream",
     "text": [
      "    1983 gpg.mic INFO Start\n",
      "    1984 gpg.mic INFO street_music\n",
      "    1985 gpg.mic INFO Finish\n"
     ]
    }
   ],
   "source": [
    "mic_logger = logging.getLogger('gpg.mic')\n",
    "\n",
    "# ...\n",
    "# After GoPiGo has recongized the start signal (1760 Hz)\n",
    "# It is important to write the 'Start' message immediately after the signal!\n",
    "mic_logger.info('Start')\n",
    "\n",
    "# ...\n",
    "# GoPiGo has detected some sound, for example 'street_music'\n",
    "class_name = 'street_music'\n",
    "mic_logger.info(class_name)\n",
    "\n",
    "# ...\n",
    "# Sound recognition thread stops to listen the microphone because GoPiGo reached the finish point\n",
    "mic_logger.info('Finish')"
   ]
  },
  {
   "cell_type": "markdown",
   "metadata": {},
   "source": [
    "Visual objects recognition:"
   ]
  },
  {
   "cell_type": "code",
   "execution_count": 3,
   "metadata": {},
   "outputs": [
    {
     "name": "stderr",
     "output_type": "stream",
     "text": [
      "    1992 gpg.find_cone INFO yellow,bottle\n"
     ]
    }
   ],
   "source": [
    "visual_logger = logging.getLogger('gpg.find_cone')\n",
    "\n",
    "# ...\n",
    "# After GoPiGo has detected some object (let be a bottle) near a colored (let be yellow) cone\n",
    "color_name = 'yellow'\n",
    "class_name = 'bottle'\n",
    "visual_logger.info('%s,%s' % (color_name, class_name))"
   ]
  },
  {
   "cell_type": "markdown",
   "metadata": {},
   "source": [
    "After running all cells you can find a log file 'gopigo.log' in the current directory."
   ]
  },
  {
   "cell_type": "markdown",
   "metadata": {},
   "source": [
    "# Send the log file to the server and get the score\n",
    "\n",
    "To send your log file to the server and get the score call `connection` from \"robo_client.py\". You also need \"robotics_pb2.py\".\n",
    "\n",
    "`connection(HOST, PORT, login, password, split_id, filename)`\n",
    "- HOST - 'datastream.ilykei.com'\n",
    "- PORT - 30078\n",
    "- login - your ilykey login\n",
    "- password - your password for data stream assignments\n",
    "- split id - should be 19\n",
    "- filename - name of your log file\n"
   ]
  },
  {
   "cell_type": "code",
   "execution_count": null,
   "metadata": {},
   "outputs": [],
   "source": [
    "    from robo_client import connection\n",
    "    \n",
    "    HOST, PORT = 'datastream.ilykei.com', 30078\n",
    "    login = 'Your Login'\n",
    "    password = 'Your Password for Data Stream Assignments'\n",
    "    split_id = 19\n",
    "    filename = 'gpg.log'\n",
    "    connection(HOST, PORT, login, password, split_id, filename)    "
   ]
  }
 ],
 "metadata": {
  "kernelspec": {
   "display_name": "Python 3",
   "language": "python",
   "name": "python3"
  },
  "language_info": {
   "codemirror_mode": {
    "name": "ipython",
    "version": 3
   },
   "file_extension": ".py",
   "mimetype": "text/x-python",
   "name": "python",
   "nbconvert_exporter": "python",
   "pygments_lexer": "ipython3",
   "version": "3.7.5"
  }
 },
 "nbformat": 4,
 "nbformat_minor": 4
}
