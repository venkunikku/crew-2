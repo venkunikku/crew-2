{
 "cells": [
  {
   "cell_type": "code",
   "execution_count": 2,
   "metadata": {},
   "outputs": [],
   "source": [
    "import pandas as pd"
   ]
  },
  {
   "cell_type": "code",
   "execution_count": 3,
   "metadata": {},
   "outputs": [],
   "source": [
    "states_12 = pd.read_csv('../../hmm_models/validation_df_12-states.csv', index_col=0)"
   ]
  },
  {
   "cell_type": "code",
   "execution_count": 4,
   "metadata": {},
   "outputs": [],
   "source": [
    "states_15 = pd.read_csv('../../hmm_models/validation_df_15-states.csv', index_col=0)"
   ]
  },
  {
   "cell_type": "code",
   "execution_count": 10,
   "metadata": {},
   "outputs": [],
   "source": [
    "def label_accuracies(df):\n",
    "\n",
    "\n",
    "    accuracies = []\n",
    "\n",
    "    points = 0 \n",
    "\n",
    "    for i in range(len(df[df['actual']=='siren'])):\n",
    "    \n",
    "        if df[df['actual']=='siren']['actual'].iloc[i] == df[df['actual']=='siren']['predicted'].iloc[i]:\n",
    "            points += 1\n",
    "    \n",
    "    siren_accuracy = points / len(df[df['actual']=='siren'])\n",
    "    accuracies.append(siren_accuracy)\n",
    "\n",
    "    points = 0 \n",
    "\n",
    "    for i in range(len(df[df['actual']=='jackhammer'])):\n",
    "    \n",
    "        if df[df['actual']=='jackhammer']['actual'].iloc[i] == df[df['actual']=='jackhammer']['predicted'].iloc[i]:\n",
    "            points += 1\n",
    "    \n",
    "    jackhammer_accuracy = points / len(df[df['actual']=='jackhammer'])    \n",
    "    accuracies.append(jackhammer_accuracy)\n",
    "    \n",
    "    points = 0 \n",
    "\n",
    "    for i in range(len(df[df['actual']=='engine_idling'])):\n",
    "    \n",
    "        if df[df['actual']=='engine_idling']['actual'].iloc[i] == df[df['actual']=='engine_idling']['predicted'].iloc[i]:\n",
    "            points += 1\n",
    "    \n",
    "    engine_idling_accuracy = points / len(df[df['actual']=='engine_idling']) \n",
    "    accuracies.append(engine_idling_accuracy)\n",
    "\n",
    "    points = 0 \n",
    "\n",
    "    for i in range(len(df[df['actual']=='air_conditioner'])):\n",
    "    \n",
    "        if df[df['actual']=='air_conditioner']['actual'].iloc[i] == df[df['actual']=='air_conditioner']['predicted'].iloc[i]:\n",
    "            points += 1\n",
    "    \n",
    "    air_conditioner_accuracy = points / len(df[df['actual']=='air_conditioner']) \n",
    "    accuracies.append(air_conditioner_accuracy)\n",
    "\n",
    "    points = 0 \n",
    "\n",
    "    for i in range(len(df[df['actual']=='dog_bark'])):\n",
    "    \n",
    "        if df[df['actual']=='dog_bark']['actual'].iloc[i] == df[df['actual']=='dog_bark']['predicted'].iloc[i]:\n",
    "            points += 1\n",
    "    \n",
    "    dog_bark_accuracy = points / len(df[df['actual']=='dog_bark']) \n",
    "    accuracies.append(dog_bark_accuracy)\n",
    "\n",
    "    points = 0 \n",
    "\n",
    "    for i in range(len(df[df['actual']=='street_music'])):\n",
    "    \n",
    "        if df[df['actual']=='street_music']['actual'].iloc[i] == df[df['actual']=='street_music']['predicted'].iloc[i]:\n",
    "            points += 1\n",
    "    \n",
    "    street_music_accuracy = points / len(df[df['actual']=='street_music']) \n",
    "    accuracies.append(street_music_accuracy)\n",
    "    \n",
    "    points = 0 \n",
    "\n",
    "    for i in range(len(df[df['actual']=='children_playing'])):\n",
    "    \n",
    "        if df[df['actual']=='children_playing']['actual'].iloc[i] == df[df['actual']=='children_playing']['predicted'].iloc[i]:\n",
    "            points += 1\n",
    "    \n",
    "    children_playing_accuracy = points / len(df[df['actual']=='children_playing']) \n",
    "    accuracies.append(children_playing_accuracy)\n",
    "\n",
    "    points = 0 \n",
    "\n",
    "    for i in range(len(df[df['actual']=='drilling'])):\n",
    "    \n",
    "        if df[df['actual']=='drilling']['actual'].iloc[i] == df[df['actual']=='drilling']['predicted'].iloc[i]:\n",
    "            points += 1\n",
    "    \n",
    "    drilling_accuracy = points / len(df[df['actual']=='drilling']) \n",
    "    accuracies.append(drilling_accuracy)\n",
    "\n",
    "    points = 0 \n",
    "\n",
    "    for i in range(len(df[df['actual']=='car_horn'])):\n",
    "    \n",
    "        if df[df['actual']=='car_horn']['actual'].iloc[i] == df[df['actual']=='car_horn']['predicted'].iloc[i]:\n",
    "            points += 1\n",
    "    \n",
    "    car_horn_accuracy = points / len(df[df['actual']=='car_horn']) \n",
    "    accuracies.append(car_horn_accuracy)\n",
    "\n",
    "    points = 0 \n",
    "\n",
    "    for i in range(len(df[df['actual']=='gun_shot'])):\n",
    "    \n",
    "        if df[df['actual']=='gun_shot']['actual'].iloc[i] == df[df['actual']=='gun_shot']['predicted'].iloc[i]:\n",
    "            points += 1\n",
    "    \n",
    "    gun_shot_accuracy = points / len(df[df['actual']=='gun_shot']) \n",
    "    accuracies.append(gun_shot_accuracy)\n",
    "    \n",
    "    return accuracies\n",
    "    \n",
    "    \n",
    "    \n",
    "    "
   ]
  },
  {
   "cell_type": "code",
   "execution_count": 11,
   "metadata": {},
   "outputs": [
    {
     "data": {
      "text/plain": [
       "[0.533213644524237,\n",
       " 0.7283333333333334,\n",
       " 0.5016666666666667,\n",
       " 0.3433333333333333,\n",
       " 0.485,\n",
       " 0.44666666666666666,\n",
       " 0.7216666666666667,\n",
       " 0.5116666666666667,\n",
       " 0.5175097276264592,\n",
       " 0.6919642857142857]"
      ]
     },
     "execution_count": 11,
     "metadata": {},
     "output_type": "execute_result"
    }
   ],
   "source": [
    "label_accuracies(states_12)"
   ]
  },
  {
   "cell_type": "code",
   "execution_count": 12,
   "metadata": {},
   "outputs": [
    {
     "data": {
      "text/plain": [
       "[0.6157989228007181,\n",
       " 0.7733333333333333,\n",
       " 0.6083333333333333,\n",
       " 0.5216666666666666,\n",
       " 0.5016666666666667,\n",
       " 0.48833333333333334,\n",
       " 0.6883333333333334,\n",
       " 0.5716666666666667,\n",
       " 0.5447470817120622,\n",
       " 0.48660714285714285]"
      ]
     },
     "execution_count": 12,
     "metadata": {},
     "output_type": "execute_result"
    }
   ],
   "source": [
    "label_accuracies(states_15)"
   ]
  },
  {
   "cell_type": "code",
   "execution_count": null,
   "metadata": {},
   "outputs": [],
   "source": []
  }
 ],
 "metadata": {
  "kernelspec": {
   "display_name": "Python 3",
   "language": "python",
   "name": "python3"
  },
  "language_info": {
   "codemirror_mode": {
    "name": "ipython",
    "version": 3
   },
   "file_extension": ".py",
   "mimetype": "text/x-python",
   "name": "python",
   "nbconvert_exporter": "python",
   "pygments_lexer": "ipython3",
   "version": "3.7.4"
  }
 },
 "nbformat": 4,
 "nbformat_minor": 2
}
