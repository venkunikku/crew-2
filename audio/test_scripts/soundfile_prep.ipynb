{
 "cells": [
  {
   "cell_type": "markdown",
   "metadata": {},
   "source": [
    "# Audio Signal Exploration"
   ]
  },
  {
   "cell_type": "code",
   "execution_count": 169,
   "metadata": {},
   "outputs": [],
   "source": [
    "import numpy as np\n",
    "import matplotlib.pyplot as plt\n",
    "import scipy.io.wavfile as wavfile\n",
    "import os\n",
    "\n",
    "from python_speech_features import mfcc, logfbank"
   ]
  },
  {
   "cell_type": "code",
   "execution_count": 151,
   "metadata": {},
   "outputs": [],
   "source": [
    "mixed_dir = (\"../../../mixed\")\n",
    "sample = mixed_dir + \"/\" + os.listdir(mixed_dir)[0]"
   ]
  },
  {
   "cell_type": "code",
   "execution_count": 152,
   "metadata": {},
   "outputs": [
    {
     "data": {
      "text/plain": [
       "'\\nMemory-mapped files behave also like strings. They are mutable. \\nSo, a single character in them can be changed. Memory mapped files allow accessing a small segment on the disk. \\nThey have limited size (for example, 2GB on 32-bit system).\\n\\n'"
      ]
     },
     "execution_count": 152,
     "metadata": {},
     "output_type": "execute_result"
    }
   ],
   "source": [
    "### Read a file with uncompressed waveform as a memory-mapped file ###\n",
    "\n",
    "\"\"\"\n",
    "Memory-mapped files behave also like strings. They are mutable. \n",
    "So, a single character in them can be changed. Memory mapped files allow accessing a small segment on the disk. \n",
    "They have limited size (for example, 2GB on 32-bit system).\n",
    "\n",
    "\"\"\"\n"
   ]
  },
  {
   "cell_type": "code",
   "execution_count": 153,
   "metadata": {},
   "outputs": [
    {
     "data": {
      "text/plain": [
       "(44100, memmap([-5699, -6056, -6501, ...,  5559,  5281,  5403], dtype=int16))"
      ]
     },
     "execution_count": 153,
     "metadata": {},
     "output_type": "execute_result"
    }
   ],
   "source": [
    "# Read in wav file\n",
    "\n",
    "wavfile.read(sample,mmap=True)"
   ]
  },
  {
   "cell_type": "code",
   "execution_count": 154,
   "metadata": {},
   "outputs": [
    {
     "name": "stdout",
     "output_type": "stream",
     "text": [
      "[-5699 -6056 -6501 ...  5559  5281  5403] \n",
      "\n"
     ]
    }
   ],
   "source": [
    "# Get a look at signal data\n",
    "\n",
    "sampling_freq, signal = wavfile.read(sample)\n",
    "print(signal, \"\\n\")"
   ]
  },
  {
   "cell_type": "code",
   "execution_count": 155,
   "metadata": {},
   "outputs": [
    {
     "name": "stdout",
     "output_type": "stream",
     "text": [
      "Sampling frequency:  44100\n",
      "\n",
      "Signal shape:  (80658,)\n",
      "\n",
      "Data type:  int16\n",
      "\n",
      "Signal duration:  1.83 seconds\n"
     ]
    }
   ],
   "source": [
    "# Get general information on wav file\n",
    "\n",
    "\"\"\"\n",
    "Sampling frequency 44100 of samples per second (44100 hertz) is a CD sound quality. \n",
    "In 3 seconds the number of samples is 132300.\n",
    "\"\"\"\n",
    "\n",
    "print('Sampling frequency: ',sampling_freq)\n",
    "print('\\nSignal shape: ',signal.shape)\n",
    "print('\\nData type: ',signal.dtype)\n",
    "print('\\nSignal duration: ',round(signal.shape[0] / float(sampling_freq),2), 'seconds')"
   ]
  },
  {
   "cell_type": "code",
   "execution_count": 156,
   "metadata": {},
   "outputs": [
    {
     "name": "stdout",
     "output_type": "stream",
     "text": [
      "Range before normalization:  -32768 32767\n",
      "Range after normalization:  -1.0 0.999969482421875\n"
     ]
    }
   ],
   "source": [
    "# Normalize the signal\n",
    "\n",
    "s_lo, s_hi = np.min(signal), np.max(signal)\n",
    "print('Range before normalization: ',s_lo, s_hi)\n",
    "\n",
    "signal = signal/np.power(2,15)\n",
    "s_lo, s_hi = np.min(signal), np.max(signal)\n",
    "print('Range after normalization: ',s_lo,s_hi)"
   ]
  },
  {
   "cell_type": "code",
   "execution_count": 157,
   "metadata": {},
   "outputs": [
    {
     "data": {
      "image/png": "[encoded data removed]",
      "text/plain": [
       "<Figure size 432x288 with 1 Axes>"
      ]
     },
     "metadata": {
      "needs_background": "light"
     },
     "output_type": "display_data"
    }
   ],
   "source": [
    "# Select a small component of the signal\n",
    "\n",
    "signal = signal[:40000]\n",
    "\n",
    "time_axis = 1000 * np.arange(0,len(signal),1) / float(sampling_freq) # time in seconds\n",
    "\n",
    "plt.plot(time_axis,signal,color='black')\n",
    "plt.xlabel('Time (milliseconds)')\n",
    "plt.ylabel('Amplitude')\n",
    "plt.title('Input audio signal')\n",
    "plt.show()"
   ]
  },
  {
   "cell_type": "code",
   "execution_count": 158,
   "metadata": {},
   "outputs": [],
   "source": [
    "### Transforming audio signals to frequency domain ###\n"
   ]
  },
  {
   "cell_type": "markdown",
   "metadata": {},
   "source": [
    "\n",
    "If signal in time domain is $\\{x_t\\}=x_0,\\ldots,x_{N-1}$, then its DFT is the signal in frequency domain, i.e. magnitude or energy (dB) as function of frequency \n",
    "\n",
    "$$\\{\\hat{x}_k\\}=\\hat{x}_0,\\ldots,\\hat{x}_{N-1},$$\n",
    "\n",
    "$$\\hat{x}_k =\\sum_{t=0}^{N-1}x_t \\left( \\cos \\left( \\frac{2 \\pi}{N}kt \\right) -i \\sin \\left( \\frac{2 \\pi}{N}kt \\right) \\right).$$\n",
    "\n",
    "Then normalized frequency domain signal is \n",
    "$$\\frac{\\hat{x}_k}{N},~k=0,\\ldots,\\frac{N}{2}.$$\n",
    "\n",
    "where N is the length of the time domain.\n",
    "\n",
    "Including only half of the time range is due to Nyquist frequency. The Nyquist frequency is the highest estimated frequency, which is half of the sampling rate of a discrete signal processing signal. The fundamental frequency is the lowest estimated frequency and is equal to 1/N. "
   ]
  },
  {
   "cell_type": "code",
   "execution_count": 159,
   "metadata": {},
   "outputs": [
    {
     "name": "stdout",
     "output_type": "stream",
     "text": [
      "(40000,)\n"
     ]
    },
    {
     "data": {
      "text/plain": [
       "array([ -26.59008789  +0.j        ,  127.31810382 +20.08192801j,\n",
       "       -121.10326938+120.3999466j , ...,    0.48653676+152.76632515j,\n",
       "       -121.10326938-120.3999466j ,  127.31810382 -20.08192801j])"
      ]
     },
     "execution_count": 159,
     "metadata": {},
     "output_type": "execute_result"
    }
   ],
   "source": [
    "# Apply Fourier Transform. \n",
    "\n",
    "freq_signal = np.fft.fft(signal)\n",
    "print(freq_signal.shape)\n",
    "freq_signal # array of numpy.complex128\n",
    "\n",
    "# We note that there are as many frequencies as there are discrete time steps"
   ]
  },
  {
   "cell_type": "code",
   "execution_count": 160,
   "metadata": {},
   "outputs": [
    {
     "data": {
      "text/plain": [
       "(15806.61572770348+5113.585991292094j)"
      ]
     },
     "execution_count": 160,
     "metadata": {},
     "output_type": "execute_result"
    }
   ],
   "source": [
    "# Multiplying two imaginary numbers yields a real number\n",
    "\n",
    "(freq_signal[1]*freq_signal[1])"
   ]
  },
  {
   "cell_type": "code",
   "execution_count": 161,
   "metadata": {},
   "outputs": [
    {
     "name": "stdout",
     "output_type": "stream",
     "text": [
      "length of the signal in time: 40000\n",
      "half that length 20001\n"
     ]
    },
    {
     "data": {
      "text/plain": [
       "array([6.64752197e-04, 3.22230347e-03, 4.26923215e-03, ...,\n",
       "       5.72933253e-05, 6.77364881e-05, 5.66894531e-05])"
      ]
     },
     "execution_count": 161,
     "metadata": {},
     "output_type": "execute_result"
    }
   ],
   "source": [
    "# Normalize frequency domain signal by dividing the first half length of the DFT array by sampling frequency \n",
    "# (i.e. the number of time steps).\n",
    "\n",
    "len_signal = len(signal)\n",
    "print(\"length of the signal in time:\", len_signal)\n",
    "len_half = np.ceil((len_signal + 1) / 2.0).astype(np.int) \n",
    "print(\"half that length\", len_half)\n",
    "\n",
    "# Dividing first half of DFT (freq signal) by sampling freq (len signal)\n",
    "freq_signal = abs(freq_signal[0:len_half]) / len_signal\n",
    "freq_signal"
   ]
  },
  {
   "cell_type": "markdown",
   "metadata": {},
   "source": [
    "The power spectrum of the signal is then defined as $\\{ |\\hat{x}_k|^2 \\}$."
   ]
  },
  {
   "cell_type": "code",
   "execution_count": 162,
   "metadata": {},
   "outputs": [
    {
     "name": "stdout",
     "output_type": "stream",
     "text": [
      "(20001,)\n"
     ]
    }
   ],
   "source": [
    "# Calculating power spectrum: \n",
    "\n",
    "\"\"\"\n",
    "Spectral Density, spectrum, or power spectrum of a time series describes the distribution of power (variance) \n",
    "into the frequency components composing that signal and is directly linked to the autocovariance time domain \n",
    "representation. Spectral Density, S_xx (λ), of a weakly stationary time series x_t is the Fourier transform of \n",
    "its autocovariance γ_k:\n",
    "\"\"\"\n",
    "\n",
    "freq_signal **= 2    \n",
    "print(freq_signal.shape)\n",
    "\n",
    "len_fts = len(freq_signal)"
   ]
  },
  {
   "cell_type": "markdown",
   "metadata": {},
   "source": [
    "Power spectrum has property $S_{xx}(\\lambda)=S_{xx}(-\\lambda)$ which is called a two-sided power spectrum. \n",
    "\n"
   ]
  },
  {
   "cell_type": "code",
   "execution_count": 163,
   "metadata": {},
   "outputs": [],
   "source": [
    "\"\"\"\n",
    "Typical analysis is done only with one-sided spectrum, i.e. with half of the power spectrum sequence. \n",
    "To preserve the total amount of energy shown in the half-range double the spectrum with adjustment \n",
    "for cases of even or odd length.Calculation of power spectrum is an important step of extracting feature\n",
    "from speech signals. See more on feature extraction in a later section of the document.\n",
    "\"\"\"\n",
    "\n",
    "if len_signal % 2:\n",
    "    freq_signal[1:len_fts] *= 2\n",
    "else:\n",
    "    freq_signal[1:len_fts-1] *= 2"
   ]
  },
  {
   "cell_type": "code",
   "execution_count": 165,
   "metadata": {},
   "outputs": [
    {
     "data": {
      "image/png": "[encoded data removed]",
      "text/plain": [
       "<Figure size 432x288 with 1 Axes>"
      ]
     },
     "metadata": {
      "needs_background": "light"
     },
     "output_type": "display_data"
    }
   ],
   "source": [
    "# Now plot the power spectrum.\n",
    "\n",
    "# Build the X axis\n",
    "x_axis = np.arange(0, len_half, 1) * (sampling_freq / len_signal) / 1000.0\n",
    "\n",
    "# Plot the figure\n",
    "plt.figure()\n",
    "plt.plot(x_axis, freq_signal, color='black')\n",
    "plt.xlabel('Frequency (kHz)')\n",
    "plt.ylabel('Signal power')\n",
    "plt.show()"
   ]
  },
  {
   "cell_type": "markdown",
   "metadata": {},
   "source": [
    "It is common to show spectrum in logarithmic units (decibels, dB). Logarithmic scale allows viewing wider dynamic ranges, i.e. small signal in the presence of large signal. \n",
    "\n",
    "General definition of decibel unit is \n",
    "$$1dB=10\\log_{10} \\left(\\frac{P}{P_r} \\right),$$\n",
    "where $P$ is the measured power and $P_r$ is the reference power (in our case 1).\n",
    "\n"
   ]
  },
  {
   "cell_type": "code",
   "execution_count": 166,
   "metadata": {},
   "outputs": [
    {
     "data": {
      "text/plain": [
       "array([-63.54680437, -46.82637128, -44.38270462, ..., -81.82761946,\n",
       "       -80.37324652, -84.92995465])"
      ]
     },
     "execution_count": 166,
     "metadata": {},
     "output_type": "execute_result"
    }
   ],
   "source": [
    "# Extract the power value in dB:\n",
    "\n",
    "signal_power = 10 * np.log10(freq_signal)\n",
    "signal_power"
   ]
  },
  {
   "cell_type": "code",
   "execution_count": 167,
   "metadata": {},
   "outputs": [
    {
     "data": {
      "image/png": "[encoded data removed]",
      "text/plain": [
       "<Figure size 432x288 with 1 Axes>"
      ]
     },
     "metadata": {
      "needs_background": "light"
     },
     "output_type": "display_data"
    }
   ],
   "source": [
    "# Now plot the power spectrum in dB.\n",
    "\n",
    "# Build the X axis\n",
    "x_axis = np.arange(0, len_half, 1) * (sampling_freq / len_signal) / 1000.0\n",
    "\n",
    "# Plot the figure\n",
    "plt.figure()\n",
    "plt.plot(x_axis, signal_power, color='black')\n",
    "plt.xlabel('Frequency (kHz)')\n",
    "plt.ylabel('Signal power (dB)')\n",
    "plt.show()"
   ]
  },
  {
   "cell_type": "code",
   "execution_count": 170,
   "metadata": {},
   "outputs": [
    {
     "data": {
      "text/plain": [
       "[<matplotlib.lines.Line2D at 0x11ba379d0>]"
      ]
     },
     "execution_count": 170,
     "metadata": {},
     "output_type": "execute_result"
    },
    {
     "data": {
      "image/png": "[encoded data removed]",
      "text/plain": [
       "<Figure size 432x288 with 1 Axes>"
      ]
     },
     "metadata": {
      "needs_background": "light"
     },
     "output_type": "display_data"
    }
   ],
   "source": [
    "signal = signal[18000:28000]\n",
    "plt.plot(signal)"
   ]
  },
  {
   "cell_type": "markdown",
   "metadata": {},
   "source": [
    "Extract features: Mel Frequency Cepstral Coefficients (MFCC). Recall from lecture slides how MFCC are calculated.\n",
    "\n",
    "Function `mfcc()` has syntax:\n",
    "\n",
    "`mfcc(signal, samplerate=16000, winlen=0.025, winstep=0.01, numcep=13, nfilt=26, nfft=512, lowfreq=0, highfreq=None, preemph=0.97, ceplifter=22, appendEnergy=True, winfunc=<function <lambda> at 0x7f06854d6378>)`,\n",
    "    \n",
    "where:    \n",
    "- `signal`: the audio signal from which to compute features. Should be an N*1 array\n",
    "- `samplerate`: the sample rate of the signal\n",
    "- `winlen`: the length of the analysis window in seconds. Default is 0.025s (25 milliseconds)\n",
    "- `winstep`: the step between successive windows in seconds. Default is 0.01s (10 milliseconds)\n",
    "- `numcep`: the number of cepstrum coefficients to return, default 13\n",
    "- `nfilt`: the number of filters in the filterbank, default 26\n",
    "- `nfft`: the FFT size. Default is 512.\n",
    "- `lowfreq`: lowest band edge of mel filters. In Hz, default is 0.\n",
    "- `highfreq`: highest band edge of mel filters. In Hz, default is samplerate/2 (Nyquist)\n",
    "- `preemph`: apply preemphasis filter with preemph as coefficient. 0 is no filter. Default is 0.97.\n",
    "- `ceplifter`: apply a lifter to final cepstral coefficients. 0 is no lifter. Default is 22.\n",
    "- `appendEnergy`: if this is true, the zero lag cepstral coefficient is replaced with the log of the total frame energy. Default is True\n",
    "- `winfunc`: the analysis window to apply to each frame. By default no window is applied. You can use numpy window functions here e.g. winfunc=numpy.hamming\n",
    "\n",
    "The function returns a numpy array of size (`NUMFRAMES` by `numcep`) containing features. Each row holds 1 feature vector."
   ]
  },
  {
   "cell_type": "code",
   "execution_count": 180,
   "metadata": {},
   "outputs": [
    {
     "name": "stderr",
     "output_type": "stream",
     "text": [
      "WARNING:root:frame length (1103) is greater than FFT size (512), frame will be truncated. Increase NFFT to avoid.\n"
     ]
    },
    {
     "name": "stdout",
     "output_type": "stream",
     "text": [
      "44100\n",
      "(22, 13)\n"
     ]
    }
   ],
   "source": [
    "print(sampling_freq)\n",
    "features_mfcc = mfcc(signal, sampling_freq)\n",
    "features_mfcc[0:3]\n",
    "print(features_mfcc.shape)\n",
    "# Below array is 22 windows by 13 cepstral coefficients"
   ]
  },
  {
   "cell_type": "code",
   "execution_count": 172,
   "metadata": {},
   "outputs": [
    {
     "name": "stdout",
     "output_type": "stream",
     "text": [
      "\n",
      "MFCC:\n",
      "Number of windows = 22\n",
      "Length of each feature = 13\n",
      "Mfcc shape:  (22, 13)\n"
     ]
    }
   ],
   "source": [
    "# Print the parameters for MFCC.\n",
    "\n",
    "print('\\nMFCC:\\nNumber of windows =', features_mfcc.shape[0])\n",
    "print('Length of each feature =', features_mfcc.shape[1])\n",
    "print('Mfcc shape: ',features_mfcc.shape)"
   ]
  },
  {
   "cell_type": "markdown",
   "metadata": {},
   "source": [
    "Plot 3 features from frames 0, 50, 100."
   ]
  },
  {
   "cell_type": "code",
   "execution_count": 179,
   "metadata": {},
   "outputs": [
    {
     "data": {
      "image/png": "[encoded data removed]",
      "text/plain": [
       "<Figure size 432x288 with 1 Axes>"
      ]
     },
     "metadata": {
      "needs_background": "light"
     },
     "output_type": "display_data"
    },
    {
     "data": {
      "text/plain": [
       "array([ -0.59924783,   5.18855552, -20.2759358 , -21.22564062,\n",
       "        -4.83195072,  -0.09009625,   0.1435127 ,  -2.46233521,\n",
       "        -6.80416019, -19.62604986, -13.20060153,  -9.1095019 ,\n",
       "         3.00147715])"
      ]
     },
     "execution_count": 179,
     "metadata": {},
     "output_type": "execute_result"
    }
   ],
   "source": [
    "x_ax=range(features_mfcc.shape[1])\n",
    "plt.bar(x_ax,features_mfcc[0],)\n",
    "plt.xlabel('Quefrency')\n",
    "plt.ylabel('Cepstral Coefficients')\n",
    "plt.title('Cepstrum of sound: feature 0')\n",
    "plt.show()\n",
    "features_mfcc[0]"
   ]
  },
  {
   "cell_type": "code",
   "execution_count": 184,
   "metadata": {},
   "outputs": [
    {
     "data": {
      "image/png": "[encoded data removed]",
      "text/plain": [
       "<Figure size 432x288 with 1 Axes>"
      ]
     },
     "metadata": {
      "needs_background": "light"
     },
     "output_type": "display_data"
    },
    {
     "data": {
      "text/plain": [
       "array([  1.02105721,  -3.90774502, -34.5999518 ,  -3.52453447,\n",
       "       -36.40086096,  10.39702415, -13.95493793,  17.83031405,\n",
       "        -3.98398643,  13.50225376,  -1.05015502,  17.33101599,\n",
       "         7.26036168])"
      ]
     },
     "execution_count": 184,
     "metadata": {},
     "output_type": "execute_result"
    }
   ],
   "source": [
    "plt.bar(x_ax,features_mfcc[5],)\n",
    "plt.xlabel('Quefrency')\n",
    "plt.ylabel('Cepstral Coefficients')\n",
    "plt.title('Cepstrum of phone \"ah\": feature 5')\n",
    "plt.show()\n",
    "features_mfcc[5]"
   ]
  },
  {
   "cell_type": "code",
   "execution_count": 185,
   "metadata": {},
   "outputs": [
    {
     "data": {
      "image/png": "[encoded data removed]",
      "text/plain": [
       "<Figure size 432x288 with 1 Axes>"
      ]
     },
     "metadata": {
      "needs_background": "light"
     },
     "output_type": "display_data"
    },
    {
     "data": {
      "text/plain": [
       "array([ -0.51953126,   4.94121435, -32.495876  , -14.81742116,\n",
       "       -26.79432361,  14.08280413,   2.26197164,  -1.17198888,\n",
       "       -14.87539261, -17.49511429,  -9.17686647,  -2.36653544,\n",
       "        10.89258753])"
      ]
     },
     "execution_count": 185,
     "metadata": {},
     "output_type": "execute_result"
    }
   ],
   "source": [
    "plt.bar(x_ax,features_mfcc[15],)\n",
    "plt.xlabel('Quefrency')\n",
    "plt.ylabel('Cepstral Coefficients')\n",
    "plt.title('Cepstrum of phone \"ah\": feature 15')\n",
    "plt.show()\n",
    "features_mfcc[15]"
   ]
  },
  {
   "cell_type": "markdown",
   "metadata": {},
   "source": [
    "Plot heat map of all features. Interpret color codes by comparing with the printed column 20 of the transposed MFCC matrix."
   ]
  },
  {
   "cell_type": "code",
   "execution_count": 27,
   "metadata": {},
   "outputs": [
    {
     "name": "stdout",
     "output_type": "stream",
     "text": [
      "(124, 13)\n",
      "[ 22.19603486  10.81052601 -27.3485195  -40.80158286  -8.04261525\n",
      "   6.62628477 -11.34477973 -14.08160422 -14.5493616   -2.14966308\n",
      " -14.62196892  -7.51295313   2.04559786]\n"
     ]
    }
   ],
   "source": [
    "print(features_mfcc.shape)\n",
    "print(features_mfcc.T[:,20])"
   ]
  },
  {
   "cell_type": "code",
   "execution_count": 28,
   "metadata": {
    "scrolled": true
   },
   "outputs": [
    {
     "data": {
      "text/plain": [
       "Text(0.5,1.05,'MFCC')"
      ]
     },
     "execution_count": 28,
     "metadata": {},
     "output_type": "execute_result"
    },
    {
     "data": {
      "image/png": "[encoded data removed]",
      "text/plain": [
       "<Figure size 1152x144 with 1 Axes>"
      ]
     },
     "metadata": {},
     "output_type": "display_data"
    }
   ],
   "source": [
    "plt.matshow(features_mfcc.T)\n",
    "plt.title('MFCC')"
   ]
  },
  {
   "cell_type": "markdown",
   "metadata": {},
   "source": [
    "Plot filterbank matrix. Make sense of color codes by comparing the plot with the printed column 100 of the transposed matrix."
   ]
  },
  {
   "cell_type": "code",
   "execution_count": 29,
   "metadata": {},
   "outputs": [
    {
     "name": "stdout",
     "output_type": "stream",
     "text": [
      "\n",
      "Filter bank:\n",
      "Number of windows = 124\n",
      "Length of each feature = 26\n",
      "[ 12.04560179  13.28830683  11.77826366  12.39058045  14.01578833\n",
      "  13.06383529  12.73133523  14.70399259  16.20947787  16.13935284\n",
      "  14.50328141  16.1827176   15.83816027  13.92324499  12.19804285\n",
      "  10.66094525   9.72033785   9.89420661   9.79355425   9.06620216\n",
      "   9.74895758  10.70067082   9.26559566   9.2987448    8.57484408\n",
      "   6.90365661]\n"
     ]
    },
    {
     "data": {
      "image/png": "[encoded data removed]",
      "text/plain": [
       "<Figure size 1152x241.548 with 1 Axes>"
      ]
     },
     "metadata": {},
     "output_type": "display_data"
    }
   ],
   "source": [
    "# Extract the Filter Bank features\n",
    "features_fb = logfbank(signal, sampling_freq,nfft=1024)\n",
    "\n",
    "# Print the parameters for Filter Bank \n",
    "print('\\nFilter bank:\\nNumber of windows =', features_fb.shape[0])\n",
    "print('Length of each feature =', features_fb.shape[1])\n",
    "print(features_fb.T[:,100])\n",
    "# Plot the features\n",
    "features_fb = features_fb.T\n",
    "plt.matshow(features_fb)\n",
    "plt.title('Filter bank')\n",
    "\n",
    "plt.show()"
   ]
  },
  {
   "cell_type": "markdown",
   "metadata": {},
   "source": [
    "# Recognizing spoken words\n",
    "\n",
    "Previous section showed how to extract features from waveform of the word in the form of MFCC of a short segment of the signal.\n",
    "\n",
    "Vectors of features form a time series that may be well described as process of transitioning between finite number of states, i.e. Markov chain.\n",
    "\n",
    "States of the Markov chain may correspond to some spoken language patterns, like phonemes, but typically they are some unknown acoustic patterns that are contained in phonemes. So, it is reasonable to assume that states of the Markov chain are not known.\n",
    "\n",
    "Thus traditional method for recognizing a word contained in the signal waveform is based on hidden Markov models.   "
   ]
  },
  {
   "cell_type": "markdown",
   "metadata": {},
   "source": [
    "## Training model\n"
   ]
  },
  {
   "cell_type": "code",
   "execution_count": 30,
   "metadata": {},
   "outputs": [],
   "source": [
    "import os\n",
    "import warnings\n",
    "import numpy as np\n",
    "from scipy.io import wavfile\n",
    "from hmmlearn import hmm      # hidden Markov model\n",
    "from python_speech_features import mfcc\n",
    "from sklearn.externals import joblib"
   ]
  },
  {
   "cell_type": "markdown",
   "metadata": {},
   "source": [
    "Define a class to train the HMM.\n",
    "\n",
    "Parameters of `hmm.GaussianHMM()`:\n",
    "\n",
    "- `n_components`: number of states of HMM\n",
    "- `covariance_type`: type of covariance matrix for each state. Each state is a random vector. This parameter is a string defining the type of covariance matrix of this vector. Defaults to `\"diagonal\"`"
   ]
  },
  {
   "cell_type": "code",
   "execution_count": 31,
   "metadata": {},
   "outputs": [],
   "source": [
    "class ModelHMM(object):\n",
    "    def __init__(self, num_components=8, num_iter=1000):\n",
    "        self.n_components = num_components\n",
    "        self.n_iter = num_iter\n",
    "    # Define the covariance type and the type of HMM:\n",
    "        self.cov_type = 'diag'\n",
    "        self.model_name = 'GaussianHMM'\n",
    "    #Initialize the variable in which we will store the models for each word:\n",
    "        self.models = []\n",
    "    #Define the model using the specified parameters:\n",
    "        self.model = hmm.GaussianHMM(n_components=self.n_components,\n",
    "                covariance_type=self.cov_type,n_iter=self.n_iter)\n",
    "\n",
    "    #Define a method to train the model\n",
    "    # 'training_data' is a 2D numpy array where each row has length of number of mfcc coefficients\n",
    "    def train(self, training_data):\n",
    "        np.seterr(all='ignore')\n",
    "        cur_model = self.model.fit(training_data)\n",
    "        self.models.append(cur_model)\n",
    "\n",
    "    # Define a method to compute log likelihood score for input features\n",
    "    def compute_score(self, input_data):\n",
    "        return self.model.score(input_data)  # model.score returns log likelihood of sample input_data"
   ]
  },
  {
   "cell_type": "markdown",
   "metadata": {},
   "source": [
    "Define a function that takes folder with training sample for one word and trains HMM with it."
   ]
  },
  {
   "cell_type": "code",
   "execution_count": 32,
   "metadata": {},
   "outputs": [],
   "source": [
    "def build_one_model(input_folder,num_states,num_cep_coeff):\n",
    "    # input_folder: path to the folder containing training wav files with the word\n",
    "    # num_states: number of hidden states in HMM\n",
    "    # num_cep_coeff: number of MFCC features extracted from each time window\n",
    "    \n",
    "    X = np.array([]) # features\n",
    "    \n",
    "    training_files = [x for x in os.listdir(input_folder) if x.endswith('.wav')]\n",
    "    \n",
    "    for filename in training_files:\n",
    "        # Extract the current filepath and read the file\n",
    "        filepath = os.path.join(input_folder, filename)\n",
    "        sampling_freq, signal = wavfile.read(filepath)\n",
    "        \n",
    "        # Extract features\n",
    "        # Default values:\n",
    "        # winlen=0.025, winstep=0.01, nfilt=26, nfft=512,\n",
    "        with warnings.catch_warnings():\n",
    "            warnings.simplefilter('ignore')\n",
    "            features_mfcc = mfcc(signal, sampling_freq, numcep= num_cep_coeff)\n",
    "        \n",
    "        # Append features to the variable X\n",
    "        if len(X) == 0:\n",
    "            X = features_mfcc\n",
    "        else:\n",
    "            X = np.append(X, features_mfcc, axis=0)\n",
    "    \n",
    "    # Initiate HMM model object\n",
    "    with warnings.catch_warnings():\n",
    "        warnings.filterwarnings('ignore',category=DeprecationWarning)\n",
    "        model = ModelHMM(num_components=num_states)\n",
    "\n",
    "    # Train HMM model, calculate likelihood of the sample by the trained model\n",
    "    with warnings.catch_warnings():\n",
    "        warnings.filterwarnings('ignore',category=DeprecationWarning)\n",
    "        model.train(X)\n",
    "        model_score = model.compute_score(X)\n",
    "        \n",
    "    return model, model_score, num_cep_coeff"
   ]
  },
  {
   "cell_type": "markdown",
   "metadata": {},
   "source": [
    "Select one of the subfolders of folder `data` with fruit names. Leave one of the sample records for validation and train model using the rest of the files.\n",
    "\n",
    "Try training model with different numbers of states and cepstrum features and compare AIC values.\n",
    "\n",
    "AIC for HMM model can be calculated as \n",
    "$$-2LogLik+2p,$$ where $p$ is the number of parameters:\n",
    "$$p=n^2+kn-1,$$ $n$ is the number of states, $k$ is the number of parameters of distribution of observations (emission distribution). For Gaussian emission distribution $k=2$. \n",
    "\n",
    "See [\"Hidden Markov Models for Time Series: An Introduction Using R\", Second Edition, by W.Zucchini, I.L.MacDonald, R.Langrock, &copy; 2016 W.Zucchini, I.L.MacDonald, R.Langrock, CRC Press](https://www.amazon.com/Hidden-Markov-Models-Time-Introduction/dp/1584885734) for more information.\n"
   ]
  },
  {
   "cell_type": "code",
   "execution_count": 33,
   "metadata": {},
   "outputs": [],
   "source": [
    "def hmm_aic(LLik,n,k):\n",
    "    return -2*LLik+2*(n*n+k*n-1)"
   ]
  },
  {
   "cell_type": "code",
   "execution_count": 40,
   "metadata": {},
   "outputs": [
    {
     "data": {
      "text/plain": [
       "[<matplotlib.lines.Line2D at 0x7f47c629a5c0>]"
      ]
     },
     "execution_count": 40,
     "metadata": {},
     "output_type": "execute_result"
    },
    {
     "data": {
      "image/png": "[encoded data removed]",
      "text/plain": [
       "<Figure size 432x288 with 1 Axes>"
      ]
     },
     "metadata": {},
     "output_type": "display_data"
    }
   ],
   "source": [
    "my_input_folder = './data/apple'\n",
    "AIC_scores = np.array([])\n",
    "for n_st in range(2,25,1):\n",
    "    out_fun_apple = build_one_model(my_input_folder,num_states=n_st,num_cep_coeff=8)\n",
    "    AIC_scores = np.append(AIC_scores,hmm_aic(LLik=out_fun_apple[1],n=n_st,k=5))\n",
    "#    print(n_st,hmm_aic(LLik=out_fun_apple[1],n=n_st,k=2))\n",
    "plt.plot(range(2,25,1),AIC_scores)\n",
    "    "
   ]
  },
  {
   "cell_type": "markdown",
   "metadata": {},
   "source": [
    "Plotting results for different values of number of states and numbers of cepstral coefficients suggests that (at least for this word \"apple\") number of hidden states may be between 10 and 15 with a relatively small number of cepstral coefficients in features.\n",
    "\n",
    "However there is known tendency of AIC to overestimate number of hidden states. \n",
    "\n",
    "Both parameters also depend on complexity and lengths of words.\n",
    "\n",
    "Estimate model for word \"apple\" with 13 hidden states and 2 cepstral coefficients."
   ]
  },
  {
   "cell_type": "code",
   "execution_count": 41,
   "metadata": {},
   "outputs": [
    {
     "data": {
      "text/plain": [
       "(<__main__.ModelHMM at 0x7f47c638a9b0>, -13632.384778694797, 8)"
      ]
     },
     "execution_count": 41,
     "metadata": {},
     "output_type": "execute_result"
    }
   ],
   "source": [
    "model_apple = build_one_model(my_input_folder,num_states=13,num_cep_coeff=8)\n",
    "model_apple"
   ]
  },
  {
   "cell_type": "markdown",
   "metadata": {},
   "source": [
    "Train models for the whole vocabulary contained in folder `data`."
   ]
  },
  {
   "cell_type": "code",
   "execution_count": 43,
   "metadata": {},
   "outputs": [],
   "source": [
    "def build_models(input_folder):\n",
    "    \n",
    "    # input_folder contains subfolders with samples of words in wav files\n",
    "    \n",
    "    # Initialize the variable to store all the models\n",
    "    speech_models = []\n",
    "\n",
    "    # Parse the input directory\n",
    "    for dirname in os.listdir(input_folder):\n",
    "\n",
    "        # Get name of subfolder \n",
    "        subfolder = os.path.join(input_folder, dirname)\n",
    "\n",
    "        if not os.path.isdir(subfolder): \n",
    "            continue\n",
    "\n",
    "        # Extract label\n",
    "        label = subfolder[subfolder.rfind('/') + 1:]\n",
    "        \n",
    "        # Fit model for label\n",
    "        model = build_one_model(subfolder,num_states=13,num_cep_coeff=8)\n",
    "        \n",
    "        # Add the model to the list\n",
    "        speech_models.append((model, label))\n",
    "        \n",
    "        # Reset model variable\n",
    "        model = None\n",
    "\n",
    "    return speech_models\n"
   ]
  },
  {
   "cell_type": "code",
   "execution_count": 44,
   "metadata": {},
   "outputs": [
    {
     "data": {
      "text/plain": [
       "[((<__main__.ModelHMM at 0x7f47c62b0f28>, -25401.773925595422, 8), 'orange'),\n",
       " ((<__main__.ModelHMM at 0x7f47c62c1400>, -21007.794762733552, 8), 'peach'),\n",
       " ((<__main__.ModelHMM at 0x7f47c62c1780>, -14245.373120339475, 8), 'lime'),\n",
       " ((<__main__.ModelHMM at 0x7f47c62c1390>, -13288.934422558497, 8), 'kiwi'),\n",
       " ((<__main__.ModelHMM at 0x7f47c62c1630>, -13665.501026176857, 8), 'apple'),\n",
       " ((<__main__.ModelHMM at 0x7f47c62c1b38>, -16759.840556198189, 8), 'banana'),\n",
       " ((<__main__.ModelHMM at 0x7f47c62c1fd0>, -19809.681766050515, 8),\n",
       "  'pineapple')]"
      ]
     },
     "execution_count": 44,
     "metadata": {},
     "output_type": "execute_result"
    }
   ],
   "source": [
    "fruit_models = build_models('./data')\n",
    "fruit_models"
   ]
  },
  {
   "cell_type": "markdown",
   "metadata": {},
   "source": [
    "Models can be saved in **pickled** or **serialized** format or inversly transformed using `joblib.dump()` and `joblib.load()` from `sklearn.externals`. "
   ]
  },
  {
   "cell_type": "code",
   "execution_count": 45,
   "metadata": {},
   "outputs": [
    {
     "data": {
      "text/plain": [
       "['saved_fruit_models.pkl']"
      ]
     },
     "execution_count": 45,
     "metadata": {},
     "output_type": "execute_result"
    }
   ],
   "source": [
    "joblib.dump(fruit_models,'saved_fruit_models.pkl')"
   ]
  },
  {
   "cell_type": "code",
   "execution_count": 46,
   "metadata": {},
   "outputs": [
    {
     "data": {
      "text/plain": [
       "[((<__main__.ModelHMM at 0x7f47c62b9d68>, -25401.773925595422, 8), 'orange'),\n",
       " ((<__main__.ModelHMM at 0x7f47c62d8ba8>, -21007.794762733552, 8), 'peach'),\n",
       " ((<__main__.ModelHMM at 0x7f47c6253198>, -14245.373120339475, 8), 'lime'),\n",
       " ((<__main__.ModelHMM at 0x7f47c6253358>, -13288.934422558497, 8), 'kiwi'),\n",
       " ((<__main__.ModelHMM at 0x7f47c62534a8>, -13665.501026176857, 8), 'apple'),\n",
       " ((<__main__.ModelHMM at 0x7f47c6253668>, -16759.840556198189, 8), 'banana'),\n",
       " ((<__main__.ModelHMM at 0x7f47c6253828>, -19809.681766050515, 8),\n",
       "  'pineapple')]"
      ]
     },
     "execution_count": 46,
     "metadata": {},
     "output_type": "execute_result"
    }
   ],
   "source": [
    "joblib.load('saved_fruit_models.pkl')"
   ]
  },
  {
   "cell_type": "markdown",
   "metadata": {},
   "source": [
    "## Validating model\n",
    "\n",
    "Once model is trained it can be validated and used for words recognition by checking log likelihood scores of different words.\n",
    "\n",
    "Create a function that takes a trained model and a path to wav file and returnes log likelihood of that word, given the model."
   ]
  },
  {
   "cell_type": "code",
   "execution_count": 47,
   "metadata": {},
   "outputs": [],
   "source": [
    "def score_one_word(trained_model,test_file_path):\n",
    "    # trained_model: ModelHMM object with trained model\n",
    "    # test_file_path: path to wav file\n",
    "    \n",
    "    sampling_freq, signal = wavfile.read(test_file_path)\n",
    "    num_cep_coeff = trained_model[2]\n",
    "    \n",
    "    # Extract features\n",
    "    # Default values:\n",
    "    # winlen=0.025, winstep=0.01, nfilt=26, nfft=512,\n",
    "    with warnings.catch_warnings():\n",
    "        warnings.simplefilter('ignore')\n",
    "        features_mfcc = mfcc(signal, sampling_freq, numcep= num_cep_coeff)\n",
    "        \n",
    "        # Calculate log likelihood\n",
    "        word_score = trained_model[0].compute_score(features_mfcc)\n",
    "    return word_score"
   ]
  },
  {
   "cell_type": "markdown",
   "metadata": {},
   "source": [
    "Try the function by comparing scores of words \"apple\" and \"banana\", both words are from the folder of words not used in training. "
   ]
  },
  {
   "cell_type": "code",
   "execution_count": 48,
   "metadata": {},
   "outputs": [
    {
     "data": {
      "text/plain": [
       "(-1066.297913925081, -1873.0187150873126)"
      ]
     },
     "execution_count": 48,
     "metadata": {},
     "output_type": "execute_result"
    }
   ],
   "source": [
    "score_apple = score_one_word(model_apple,'./Validation/apple15.wav')\n",
    "score_banana = score_one_word(model_apple,'./Validation/banana15.wav')\n",
    "score_apple, score_banana"
   ]
  },
  {
   "cell_type": "markdown",
   "metadata": {},
   "source": [
    "As expected, likelihood of \"apple\" is much higher than likelihood of \"banana\".\n",
    "\n",
    "## Recognizing words"
   ]
  },
  {
   "cell_type": "code",
   "execution_count": 49,
   "metadata": {},
   "outputs": [],
   "source": [
    "def recognize_words(test_files_folder):\n",
    "    results = []\n",
    "    \n",
    "    for filename in os.listdir(test_files_folder):\n",
    "\n",
    "        # Get the name of the subfolder \n",
    "        current_file = os.path.join(test_files_folder,filename)\n",
    "        \n",
    "        # Extract true label from file name\n",
    "        start_index = current_file.find('/') + 1\n",
    "        end_index = current_file.rfind('15')\n",
    "        true_label = current_file[start_index:end_index]\n",
    "        print('\\n\\nTrue label: ',true_label)\n",
    " \n",
    "        max_score = -float('inf')\n",
    "        output_label = None\n",
    "\n",
    "        # Loop through vocabulary models\n",
    "        for item in fruit_models:\n",
    "            trained_model, label = item\n",
    "            current_score = score_one_word(trained_model,current_file)\n",
    "            if current_score > max_score:\n",
    "                max_score = current_score\n",
    "                output_label = label\n",
    "            print('\\nNext model')\n",
    "            print('Current label, score: ',label,current_score)\n",
    "            print('Output label, max score: ',output_label,max_score)\n",
    "        results.append((true_label,output_label))\n",
    "    return results"
   ]
  },
  {
   "cell_type": "code",
   "execution_count": 50,
   "metadata": {},
   "outputs": [
    {
     "name": "stdout",
     "output_type": "stream",
     "text": [
      "\n",
      "\n",
      "True label:  kiwi\n",
      "\n",
      "Next model\n",
      "Current label, score:  orange -2016.97044204\n",
      "Output label, max score:  orange -2016.97044204\n",
      "\n",
      "Next model\n",
      "Current label, score:  peach -1563.19697231\n",
      "Output label, max score:  peach -1563.19697231\n",
      "\n",
      "Next model\n",
      "Current label, score:  lime -2269.85640194\n",
      "Output label, max score:  peach -1563.19697231\n",
      "\n",
      "Next model\n",
      "Current label, score:  kiwi -1117.83644028\n",
      "Output label, max score:  kiwi -1117.83644028\n",
      "\n",
      "Next model\n",
      "Current label, score:  apple -2233.16617599\n",
      "Output label, max score:  kiwi -1117.83644028\n",
      "\n",
      "Next model\n",
      "Current label, score:  banana -1683.07731385\n",
      "Output label, max score:  kiwi -1117.83644028\n",
      "\n",
      "Next model\n",
      "Current label, score:  pineapple -1569.98592889\n",
      "Output label, max score:  kiwi -1117.83644028\n",
      "\n",
      "\n",
      "True label:  peach\n",
      "\n",
      "Next model\n",
      "Current label, score:  orange -2240.48838728\n",
      "Output label, max score:  orange -2240.48838728\n",
      "\n",
      "Next model\n",
      "Current label, score:  peach -1673.73856544\n",
      "Output label, max score:  peach -1673.73856544\n",
      "\n",
      "Next model\n",
      "Current label, score:  lime -4949.38339145\n",
      "Output label, max score:  peach -1673.73856544\n",
      "\n",
      "Next model\n",
      "Current label, score:  kiwi -2407.38654221\n",
      "Output label, max score:  peach -1673.73856544\n",
      "\n",
      "Next model\n",
      "Current label, score:  apple -3642.13275571\n",
      "Output label, max score:  peach -1673.73856544\n",
      "\n",
      "Next model\n",
      "Current label, score:  banana -2928.89630584\n",
      "Output label, max score:  peach -1673.73856544\n",
      "\n",
      "Next model\n",
      "Current label, score:  pineapple -3293.67103564\n",
      "Output label, max score:  peach -1673.73856544\n",
      "\n",
      "\n",
      "True label:  orange\n",
      "\n",
      "Next model\n",
      "Current label, score:  orange -2010.82954976\n",
      "Output label, max score:  orange -2010.82954976\n",
      "\n",
      "Next model\n",
      "Current label, score:  peach -3358.82167758\n",
      "Output label, max score:  orange -2010.82954976\n",
      "\n",
      "Next model\n",
      "Current label, score:  lime -4062.22989847\n",
      "Output label, max score:  orange -2010.82954976\n",
      "\n",
      "Next model\n",
      "Current label, score:  kiwi -3835.40912833\n",
      "Output label, max score:  orange -2010.82954976\n",
      "\n",
      "Next model\n",
      "Current label, score:  apple -3467.94534694\n",
      "Output label, max score:  orange -2010.82954976\n",
      "\n",
      "Next model\n",
      "Current label, score:  banana -3167.80646545\n",
      "Output label, max score:  orange -2010.82954976\n",
      "\n",
      "Next model\n",
      "Current label, score:  pineapple -3337.47765316\n",
      "Output label, max score:  orange -2010.82954976\n",
      "\n",
      "\n",
      "True label:  apple\n",
      "\n",
      "Next model\n",
      "Current label, score:  orange -1948.15765748\n",
      "Output label, max score:  orange -1948.15765748\n",
      "\n",
      "Next model\n",
      "Current label, score:  peach -1950.21984299\n",
      "Output label, max score:  orange -1948.15765748\n",
      "\n",
      "Next model\n",
      "Current label, score:  lime -1719.80045249\n",
      "Output label, max score:  lime -1719.80045249\n",
      "\n",
      "Next model\n",
      "Current label, score:  kiwi -2206.38669928\n",
      "Output label, max score:  lime -1719.80045249\n",
      "\n",
      "Next model\n",
      "Current label, score:  apple -1070.57597451\n",
      "Output label, max score:  apple -1070.57597451\n",
      "\n",
      "Next model\n",
      "Current label, score:  banana -1525.3928576\n",
      "Output label, max score:  apple -1070.57597451\n",
      "\n",
      "Next model\n",
      "Current label, score:  pineapple -1531.03106398\n",
      "Output label, max score:  apple -1070.57597451\n",
      "\n",
      "\n",
      "True label:  lime\n",
      "\n",
      "Next model\n",
      "Current label, score:  orange -1400.06914768\n",
      "Output label, max score:  orange -1400.06914768\n",
      "\n",
      "Next model\n",
      "Current label, score:  peach -2196.88814208\n",
      "Output label, max score:  orange -1400.06914768\n",
      "\n",
      "Next model\n",
      "Current label, score:  lime -993.443902154\n",
      "Output label, max score:  lime -993.443902154\n",
      "\n",
      "Next model\n",
      "Current label, score:  kiwi -2472.73375891\n",
      "Output label, max score:  lime -993.443902154\n",
      "\n",
      "Next model\n",
      "Current label, score:  apple -1535.36128163\n",
      "Output label, max score:  lime -993.443902154\n",
      "\n",
      "Next model\n",
      "Current label, score:  banana -1400.05581456\n",
      "Output label, max score:  lime -993.443902154\n",
      "\n",
      "Next model\n",
      "Current label, score:  pineapple -1238.57071426\n",
      "Output label, max score:  lime -993.443902154\n",
      "\n",
      "\n",
      "True label:  pineapple\n",
      "\n",
      "Next model\n",
      "Current label, score:  orange -2158.72244389\n",
      "Output label, max score:  orange -2158.72244389\n",
      "\n",
      "Next model\n",
      "Current label, score:  peach -2953.35587494\n",
      "Output label, max score:  orange -2158.72244389\n",
      "\n",
      "Next model\n",
      "Current label, score:  lime -2024.42671809\n",
      "Output label, max score:  lime -2024.42671809\n",
      "\n",
      "Next model\n",
      "Current label, score:  kiwi -3436.28322352\n",
      "Output label, max score:  lime -2024.42671809\n",
      "\n",
      "Next model\n",
      "Current label, score:  apple -1947.36377717\n",
      "Output label, max score:  apple -1947.36377717\n",
      "\n",
      "Next model\n",
      "Current label, score:  banana -1769.20112221\n",
      "Output label, max score:  banana -1769.20112221\n",
      "\n",
      "Next model\n",
      "Current label, score:  pineapple -1478.29434149\n",
      "Output label, max score:  pineapple -1478.29434149\n",
      "\n",
      "\n",
      "True label:  banana\n",
      "\n",
      "Next model\n",
      "Current label, score:  orange -2336.74807056\n",
      "Output label, max score:  orange -2336.74807056\n",
      "\n",
      "Next model\n",
      "Current label, score:  peach -3050.12391132\n",
      "Output label, max score:  orange -2336.74807056\n",
      "\n",
      "Next model\n",
      "Current label, score:  lime -1970.94829771\n",
      "Output label, max score:  lime -1970.94829771\n",
      "\n",
      "Next model\n",
      "Current label, score:  kiwi -3587.0378596\n",
      "Output label, max score:  lime -1970.94829771\n",
      "\n",
      "Next model\n",
      "Current label, score:  apple -1923.71163304\n",
      "Output label, max score:  apple -1923.71163304\n",
      "\n",
      "Next model\n",
      "Current label, score:  banana -1253.44117495\n",
      "Output label, max score:  banana -1253.44117495\n",
      "\n",
      "Next model\n",
      "Current label, score:  pineapple -1639.98616803\n",
      "Output label, max score:  banana -1253.44117495\n"
     ]
    },
    {
     "data": {
      "text/plain": [
       "[('kiwi', 'kiwi'),\n",
       " ('peach', 'peach'),\n",
       " ('orange', 'orange'),\n",
       " ('apple', 'apple'),\n",
       " ('lime', 'lime'),\n",
       " ('pineapple', 'pineapple'),\n",
       " ('banana', 'banana')]"
      ]
     },
     "execution_count": 50,
     "metadata": {},
     "output_type": "execute_result"
    }
   ],
   "source": [
    "recognize_words('Validation')"
   ]
  }
 ],
 "metadata": {
  "kernelspec": {
   "display_name": "Python 3",
   "language": "python",
   "name": "python3"
  },
  "language_info": {
   "codemirror_mode": {
    "name": "ipython",
    "version": 3
   },
   "file_extension": ".py",
   "mimetype": "text/x-python",
   "name": "python",
   "nbconvert_exporter": "python",
   "pygments_lexer": "ipython3",
   "version": "3.7.4"
  }
 },
 "nbformat": 4,
 "nbformat_minor": 2
}
