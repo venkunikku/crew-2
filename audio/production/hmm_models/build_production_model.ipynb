{
 "cells": [
  {
   "cell_type": "code",
   "execution_count": 16,
   "metadata": {},
   "outputs": [],
   "source": [
    "import pandas as pd\n",
    "from sklearn.externals import joblib\n",
    "from model_utils import HMM_Model\n",
    "\n",
    "gcp = False"
   ]
  },
  {
   "cell_type": "code",
   "execution_count": 17,
   "metadata": {},
   "outputs": [],
   "source": [
    "if gcp == True:\n",
    "    \n",
    "    hmm_model_dir = \"gs://ad-bucket-15730/hmm_models\"\n",
    "\n",
    "else:\n",
    "    \n",
    "    hmm_model_dir = \"../../../hmm_models\""
   ]
  },
  {
   "cell_type": "code",
   "execution_count": 18,
   "metadata": {},
   "outputs": [],
   "source": [
    "def load_model(trial_name):\n",
    "    \n",
    "    trained_models = joblib.load(hmm_model_dir + '/{}.pkl'.format(trial_name))\n",
    "    return trained_models"
   ]
  },
  {
   "cell_type": "code",
   "execution_count": 21,
   "metadata": {},
   "outputs": [],
   "source": [
    "### Selecting trials based on the success of individual labels ###\n",
    "\n",
    "trial_names = [\"saved_models_12-states\", \"saved_models_15-states\",\n",
    "               \"saved_models_short-multidimensional\",\n",
    "              \"saved_models_multidim_50iter_multiple_states\"]"
   ]
  },
  {
   "cell_type": "code",
   "execution_count": 25,
   "metadata": {},
   "outputs": [],
   "source": [
    "loaded_models = {trial_names[i]:load_model(trial_names[i]) for i in range(len(trial_names))}"
   ]
  },
  {
   "cell_type": "code",
   "execution_count": 87,
   "metadata": {},
   "outputs": [],
   "source": [
    "### Chosen models based on validation results ###\n",
    "\n",
    "# saved_models_12-states: children_playing (0.721667); gun_shot (0.691964)\n",
    "# saved_models_15-states: car_horn (0.544747)\n",
    "# saved_models_short-multidimensional: air_conditioner (0.790833), dog_bark (0.806667)\n",
    "# saved_models_multidim_50iter_multiple_states: engine_idling (0.757778); drilling (0.777778); siren (0.771531); street_music (0.754444); jack_hammer (0.850000)\n",
    "\n",
    "final_models = [loaded_models[\"saved_models_12-states\"][5], loaded_models[\"saved_models_12-states\"][7],\n",
    "loaded_models[\"saved_models_15-states\"][8], loaded_models[\"saved_models_short-multidimensional\"][0][0],\n",
    "loaded_models[\"saved_models_short-multidimensional\"][3][0], loaded_models[\"saved_models_multidim_50iter_multiple_states\"][5][0],\n",
    "loaded_models[\"saved_models_multidim_50iter_multiple_states\"][4][0], loaded_models[\"saved_models_multidim_50iter_multiple_states\"][8][0],\n",
    "loaded_models[\"saved_models_multidim_50iter_multiple_states\"][9][0], loaded_models[\"saved_models_multidim_50iter_multiple_states\"][7][0]]"
   ]
  },
  {
   "cell_type": "code",
   "execution_count": 88,
   "metadata": {},
   "outputs": [
    {
     "data": {
      "text/plain": [
       "[((<model_utils.HMM_Model at 0x131353d50>, -42431003.39320609),\n",
       "  'children_playing'),\n",
       " ((<model_utils.HMM_Model at 0x12f2d4090>, -6480586.070595579), 'gun_shot'),\n",
       " ((<model_utils.HMM_Model at 0x131715910>, -11115531.545813773), 'car_horn'),\n",
       " ((<model_utils.HMM_Model at 0x131353c50>, -68336.57417365994),\n",
       "  'air_conditioner'),\n",
       " ((<model_utils.HMM_Model at 0x1315d9a90>, -47563.90658132575), 'dog_bark'),\n",
       " ((<model_utils.HMM_Model at 0x131aac050>, -78008.93994351785),\n",
       "  'engine_idling'),\n",
       " ((<model_utils.HMM_Model at 0x131879550>, -71055.81563962506), 'drilling'),\n",
       " ((<model_utils.HMM_Model at 0x131b67e90>, -77886.51982565396), 'siren'),\n",
       " ((<model_utils.HMM_Model at 0x131ba4090>, -88849.50451911007),\n",
       "  'street_music'),\n",
       " ((<model_utils.HMM_Model at 0x131b67f50>, -63477.56404528492), 'jackhammer')]"
      ]
     },
     "execution_count": 88,
     "metadata": {},
     "output_type": "execute_result"
    }
   ],
   "source": [
    "final_models"
   ]
  },
  {
   "cell_type": "code",
   "execution_count": 90,
   "metadata": {},
   "outputs": [
    {
     "data": {
      "text/plain": [
       "['production_HMM_models.pkl']"
      ]
     },
     "execution_count": 90,
     "metadata": {},
     "output_type": "execute_result"
    }
   ],
   "source": [
    "joblib.dump(final_models, 'production_HMM_models.pkl')"
   ]
  },
  {
   "cell_type": "code",
   "execution_count": null,
   "metadata": {},
   "outputs": [],
   "source": []
  }
 ],
 "metadata": {
  "kernelspec": {
   "display_name": "Python 3",
   "language": "python",
   "name": "python3"
  },
  "language_info": {
   "codemirror_mode": {
    "name": "ipython",
    "version": 3
   },
   "file_extension": ".py",
   "mimetype": "text/x-python",
   "name": "python",
   "nbconvert_exporter": "python",
   "pygments_lexer": "ipython3",
   "version": "3.7.4"
  }
 },
 "nbformat": 4,
 "nbformat_minor": 2
}
