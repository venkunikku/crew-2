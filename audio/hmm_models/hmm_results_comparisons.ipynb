{
 "cells": [
  {
   "cell_type": "code",
   "execution_count": 10,
   "metadata": {},
   "outputs": [],
   "source": [
    "import pandas as pd"
   ]
  },
  {
   "cell_type": "code",
   "execution_count": 21,
   "metadata": {},
   "outputs": [
    {
     "data": {
      "text/plain": [
       "{'air_conditioner',\n",
       " 'car_horn',\n",
       " 'children_playing',\n",
       " 'dog_bark',\n",
       " 'drilling',\n",
       " 'engine_idling',\n",
       " 'gun_shot',\n",
       " 'jackhammer',\n",
       " 'siren',\n",
       " 'street_music'}"
      ]
     },
     "execution_count": 21,
     "metadata": {},
     "output_type": "execute_result"
    }
   ],
   "source": [
    "# choose hidden states per self-organizing maps\n",
    "\n",
    "label_states = {\"air_conditioner\", \"car_horn\", \"children_playing\",\n",
    "             \"dog_bark\", \"drilling\", \"engine_idling\",\n",
    "             \"gun_shot\", \"jackhammer\", \"siren\",\n",
    "             \"street_music\"}\n",
    "label_states"
   ]
  },
  {
   "cell_type": "code",
   "execution_count": 11,
   "metadata": {},
   "outputs": [],
   "source": [
    "states_12 = pd.read_csv('../../../hmm_models/validation_df_12-states.csv', index_col=0)"
   ]
  },
  {
   "cell_type": "code",
   "execution_count": 12,
   "metadata": {},
   "outputs": [],
   "source": [
    "states_15 = pd.read_csv('../../../hmm_models/validation_df_15-states.csv', index_col=0)"
   ]
  },
  {
   "cell_type": "code",
   "execution_count": 13,
   "metadata": {},
   "outputs": [],
   "source": [
    "short_multidim = pd.read_csv('../../../hmm_models/saved_models_short-multidimensional.csv', index_col=0)"
   ]
  },
  {
   "cell_type": "code",
   "execution_count": 14,
   "metadata": {},
   "outputs": [],
   "source": [
    "multidim_50_iter = pd.read_csv('../../../hmm_models/saved_models_multidim_50iter_multiple_states.csv', index_col=0)"
   ]
  },
  {
   "cell_type": "code",
   "execution_count": 22,
   "metadata": {},
   "outputs": [
    {
     "name": "stdout",
     "output_type": "stream",
     "text": [
      "dog_bark\n",
      "children_playing\n",
      "jackhammer\n",
      "gun_shot\n",
      "siren\n",
      "drilling\n",
      "air_conditioner\n",
      "car_horn\n",
      "street_music\n",
      "engine_idling\n"
     ]
    }
   ],
   "source": [
    "for i in label_states:\n",
    "    print(i)"
   ]
  },
  {
   "cell_type": "code",
   "execution_count": 26,
   "metadata": {},
   "outputs": [],
   "source": [
    "def label_accuracies(df, label_states):\n",
    "\n",
    "\n",
    "    accuracies = []\n",
    "\n",
    "    for i in label_states:\n",
    "        \n",
    "        points = 0 \n",
    "\n",
    "        for j in range(len(df[df['actual']==i])):\n",
    "    \n",
    "            if df[df['actual']==i]['actual'].iloc[j] == df[df['actual']==i]['predicted'].iloc[j]:\n",
    "                points += 1\n",
    "    \n",
    "        accuracy = points / len(df[df['actual']==i])\n",
    "        accuracies.append(accuracy)\n",
    "        \n",
    "    return accuracies"
   ]
  },
  {
   "cell_type": "code",
   "execution_count": 15,
   "metadata": {},
   "outputs": [],
   "source": [
    "def label_accuracies(df):\n",
    "\n",
    "\n",
    "    accuracies = []\n",
    "\n",
    "    for i in label_states:\n",
    "        \n",
    "        points = 0 \n",
    "\n",
    "        for j in range(len(df[df['actual']==i])):\n",
    "    \n",
    "            if df[df['actual']==i]['actual'].iloc[j] == df[df['actual']==i]['predicted'].iloc[j]:\n",
    "                points += 1\n",
    "    \n",
    "        accuracy = points / len(df[df['actual']==i])\n",
    "        accuracies.append(accuracy)\n",
    "\n",
    "    points = 0 \n",
    "\n",
    "    for i in range(len(df[df['actual']=='jackhammer'])):\n",
    "    \n",
    "        if df[df['actual']=='jackhammer']['actual'].iloc[i] == df[df['actual']=='jackhammer']['predicted'].iloc[i]:\n",
    "            points += 1\n",
    "    \n",
    "    jackhammer_accuracy = points / len(df[df['actual']=='jackhammer'])    \n",
    "    accuracies.append(jackhammer_accuracy)\n",
    "    \n",
    "    points = 0 \n",
    "\n",
    "    for i in range(len(df[df['actual']=='engine_idling'])):\n",
    "    \n",
    "        if df[df['actual']=='engine_idling']['actual'].iloc[i] == df[df['actual']=='engine_idling']['predicted'].iloc[i]:\n",
    "            points += 1\n",
    "    \n",
    "    engine_idling_accuracy = points / len(df[df['actual']=='engine_idling']) \n",
    "    accuracies.append(engine_idling_accuracy)\n",
    "\n",
    "    points = 0 \n",
    "\n",
    "    for i in range(len(df[df['actual']=='air_conditioner'])):\n",
    "    \n",
    "        if df[df['actual']=='air_conditioner']['actual'].iloc[i] == df[df['actual']=='air_conditioner']['predicted'].iloc[i]:\n",
    "            points += 1\n",
    "    \n",
    "    air_conditioner_accuracy = points / len(df[df['actual']=='air_conditioner']) \n",
    "    accuracies.append(air_conditioner_accuracy)\n",
    "\n",
    "    points = 0 \n",
    "\n",
    "    for i in range(len(df[df['actual']=='dog_bark'])):\n",
    "    \n",
    "        if df[df['actual']=='dog_bark']['actual'].iloc[i] == df[df['actual']=='dog_bark']['predicted'].iloc[i]:\n",
    "            points += 1\n",
    "    \n",
    "    dog_bark_accuracy = points / len(df[df['actual']=='dog_bark']) \n",
    "    accuracies.append(dog_bark_accuracy)\n",
    "\n",
    "    points = 0 \n",
    "\n",
    "    for i in range(len(df[df['actual']=='street_music'])):\n",
    "    \n",
    "        if df[df['actual']=='street_music']['actual'].iloc[i] == df[df['actual']=='street_music']['predicted'].iloc[i]:\n",
    "            points += 1\n",
    "    \n",
    "    street_music_accuracy = points / len(df[df['actual']=='street_music']) \n",
    "    accuracies.append(street_music_accuracy)\n",
    "    \n",
    "    points = 0 \n",
    "\n",
    "    for i in range(len(df[df['actual']=='children_playing'])):\n",
    "    \n",
    "        if df[df['actual']=='children_playing']['actual'].iloc[i] == df[df['actual']=='children_playing']['predicted'].iloc[i]:\n",
    "            points += 1\n",
    "    \n",
    "    children_playing_accuracy = points / len(df[df['actual']=='children_playing']) \n",
    "    accuracies.append(children_playing_accuracy)\n",
    "\n",
    "    points = 0 \n",
    "\n",
    "    for i in range(len(df[df['actual']=='drilling'])):\n",
    "    \n",
    "        if df[df['actual']=='drilling']['actual'].iloc[i] == df[df['actual']=='drilling']['predicted'].iloc[i]:\n",
    "            points += 1\n",
    "    \n",
    "    drilling_accuracy = points / len(df[df['actual']=='drilling']) \n",
    "    accuracies.append(drilling_accuracy)\n",
    "\n",
    "    points = 0 \n",
    "\n",
    "    for i in range(len(df[df['actual']=='car_horn'])):\n",
    "    \n",
    "        if df[df['actual']=='car_horn']['actual'].iloc[i] == df[df['actual']=='car_horn']['predicted'].iloc[i]:\n",
    "            points += 1\n",
    "    \n",
    "    car_horn_accuracy = points / len(df[df['actual']=='car_horn']) \n",
    "    accuracies.append(car_horn_accuracy)\n",
    "\n",
    "    points = 0 \n",
    "\n",
    "    for i in range(len(df[df['actual']=='gun_shot'])):\n",
    "    \n",
    "        if df[df['actual']=='gun_shot']['actual'].iloc[i] == df[df['actual']=='gun_shot']['predicted'].iloc[i]:\n",
    "            points += 1\n",
    "    \n",
    "    gun_shot_accuracy = points / len(df[df['actual']=='gun_shot']) \n",
    "    accuracies.append(gun_shot_accuracy)\n",
    "    \n",
    "    return accuracies\n",
    "    \n",
    "    \n",
    "    \n",
    "    "
   ]
  },
  {
   "cell_type": "code",
   "execution_count": 29,
   "metadata": {},
   "outputs": [],
   "source": [
    "s12 = label_accuracies(states_12, label_states)"
   ]
  },
  {
   "cell_type": "code",
   "execution_count": 30,
   "metadata": {},
   "outputs": [],
   "source": [
    "s15 = label_accuracies(states_15, label_states)"
   ]
  },
  {
   "cell_type": "code",
   "execution_count": 31,
   "metadata": {},
   "outputs": [],
   "source": [
    "mdms_short = label_accuracies(short_multidim, label_states)"
   ]
  },
  {
   "cell_type": "code",
   "execution_count": 32,
   "metadata": {},
   "outputs": [],
   "source": [
    "mdms_50iter = label_accuracies(multidim_50_iter, label_states)"
   ]
  },
  {
   "cell_type": "code",
   "execution_count": 36,
   "metadata": {},
   "outputs": [
    {
     "data": {
      "text/html": [
       "<div>\n",
       "<style scoped>\n",
       "    .dataframe tbody tr th:only-of-type {\n",
       "        vertical-align: middle;\n",
       "    }\n",
       "\n",
       "    .dataframe tbody tr th {\n",
       "        vertical-align: top;\n",
       "    }\n",
       "\n",
       "    .dataframe thead th {\n",
       "        text-align: right;\n",
       "    }\n",
       "</style>\n",
       "<table border=\"1\" class=\"dataframe\">\n",
       "  <thead>\n",
       "    <tr style=\"text-align: right;\">\n",
       "      <th></th>\n",
       "      <th>s12</th>\n",
       "      <th>s15</th>\n",
       "      <th>mdms_short</th>\n",
       "      <th>mdms_50iter</th>\n",
       "    </tr>\n",
       "  </thead>\n",
       "  <tbody>\n",
       "    <tr>\n",
       "      <th>dog_bark</th>\n",
       "      <td>0.485000</td>\n",
       "      <td>0.501667</td>\n",
       "      <td>0.806667</td>\n",
       "      <td>0.747778</td>\n",
       "    </tr>\n",
       "    <tr>\n",
       "      <th>children_playing</th>\n",
       "      <td>0.721667</td>\n",
       "      <td>0.688333</td>\n",
       "      <td>0.293333</td>\n",
       "      <td>0.413333</td>\n",
       "    </tr>\n",
       "    <tr>\n",
       "      <th>jackhammer</th>\n",
       "      <td>0.728333</td>\n",
       "      <td>0.773333</td>\n",
       "      <td>0.843333</td>\n",
       "      <td>0.850000</td>\n",
       "    </tr>\n",
       "    <tr>\n",
       "      <th>gun_shot</th>\n",
       "      <td>0.691964</td>\n",
       "      <td>0.486607</td>\n",
       "      <td>0.256696</td>\n",
       "      <td>0.255952</td>\n",
       "    </tr>\n",
       "    <tr>\n",
       "      <th>siren</th>\n",
       "      <td>0.533214</td>\n",
       "      <td>0.615799</td>\n",
       "      <td>0.601436</td>\n",
       "      <td>0.771531</td>\n",
       "    </tr>\n",
       "    <tr>\n",
       "      <th>drilling</th>\n",
       "      <td>0.511667</td>\n",
       "      <td>0.571667</td>\n",
       "      <td>0.745000</td>\n",
       "      <td>0.777778</td>\n",
       "    </tr>\n",
       "    <tr>\n",
       "      <th>air_conditioner</th>\n",
       "      <td>0.343333</td>\n",
       "      <td>0.521667</td>\n",
       "      <td>0.790833</td>\n",
       "      <td>0.671111</td>\n",
       "    </tr>\n",
       "    <tr>\n",
       "      <th>car_horn</th>\n",
       "      <td>0.517510</td>\n",
       "      <td>0.544747</td>\n",
       "      <td>0.521401</td>\n",
       "      <td>0.489637</td>\n",
       "    </tr>\n",
       "    <tr>\n",
       "      <th>street_music</th>\n",
       "      <td>0.446667</td>\n",
       "      <td>0.488333</td>\n",
       "      <td>0.656667</td>\n",
       "      <td>0.754444</td>\n",
       "    </tr>\n",
       "    <tr>\n",
       "      <th>engine_idling</th>\n",
       "      <td>0.501667</td>\n",
       "      <td>0.608333</td>\n",
       "      <td>0.708333</td>\n",
       "      <td>0.757778</td>\n",
       "    </tr>\n",
       "  </tbody>\n",
       "</table>\n",
       "</div>"
      ],
      "text/plain": [
       "                       s12       s15  mdms_short  mdms_50iter\n",
       "dog_bark          0.485000  0.501667    0.806667     0.747778\n",
       "children_playing  0.721667  0.688333    0.293333     0.413333\n",
       "jackhammer        0.728333  0.773333    0.843333     0.850000\n",
       "gun_shot          0.691964  0.486607    0.256696     0.255952\n",
       "siren             0.533214  0.615799    0.601436     0.771531\n",
       "drilling          0.511667  0.571667    0.745000     0.777778\n",
       "air_conditioner   0.343333  0.521667    0.790833     0.671111\n",
       "car_horn          0.517510  0.544747    0.521401     0.489637\n",
       "street_music      0.446667  0.488333    0.656667     0.754444\n",
       "engine_idling     0.501667  0.608333    0.708333     0.757778"
      ]
     },
     "execution_count": 36,
     "metadata": {},
     "output_type": "execute_result"
    }
   ],
   "source": [
    "pd.DataFrame({\"s12\":s12, \"s15\":s15, \"mdms_short\":mdms_short, \"mdms_50iter\":mdms_50iter},\n",
    "            index=label_states)"
   ]
  },
  {
   "cell_type": "code",
   "execution_count": null,
   "metadata": {},
   "outputs": [],
   "source": []
  }
 ],
 "metadata": {
  "kernelspec": {
   "display_name": "Python 3",
   "language": "python",
   "name": "python3"
  },
  "language_info": {
   "codemirror_mode": {
    "name": "ipython",
    "version": 3
   },
   "file_extension": ".py",
   "mimetype": "text/x-python",
   "name": "python",
   "nbconvert_exporter": "python",
   "pygments_lexer": "ipython3",
   "version": "3.7.4"
  }
 },
 "nbformat": 4,
 "nbformat_minor": 2
}
