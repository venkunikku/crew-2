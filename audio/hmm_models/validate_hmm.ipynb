{
 "cells": [
  {
   "cell_type": "code",
   "execution_count": 1,
   "metadata": {},
   "outputs": [
    {
     "name": "stderr",
     "output_type": "stream",
     "text": [
      "/usr/local/lib/python3.6/dist-packages/sklearn/externals/joblib/__init__.py:15: FutureWarning: sklearn.externals.joblib is deprecated in 0.21 and will be removed in 0.23. Please import this functionality directly from joblib, which can be installed with: pip install joblib. If this warning is raised when loading pickled models, you may need to re-serialize those models with scikit-learn 0.21+.\n",
      "  warnings.warn(msg, category=FutureWarning)\n"
     ]
    }
   ],
   "source": [
    "import os,sys,inspect\n",
    "currentdir = os.path.dirname(os.path.abspath(inspect.getfile(inspect.currentframe())))\n",
    "parentdir = os.path.dirname(currentdir)\n",
    "sys.path.insert(0,parentdir) \n",
    "\n",
    "import pandas as pd\n",
    "import numpy as np\n",
    "\n",
    "import os\n",
    "import warnings\n",
    "\n",
    "from scipy.io import wavfile\n",
    "\n",
    "from hmmlearn import hmm  \n",
    "import pomegranate\n",
    "\n",
    "from python_speech_features import mfcc\n",
    "\n",
    "from sklearn.externals import joblib\n",
    "\n",
    "import hmm_model_feature_extraction\n",
    "\n",
    "import random\n",
    "\n",
    "import matplotlib.pyplot as plt\n",
    "\n",
    "from tqdm import tqdm\n",
    "\n",
    "from ast import literal_eval\n",
    "\n",
    "from google.cloud import storage\n",
    "\n",
    "gcp = True\n",
    "use_files_locally = True"
   ]
  },
  {
   "cell_type": "code",
   "execution_count": 2,
   "metadata": {},
   "outputs": [],
   "source": [
    "def score_one_sample(trained_models, test_file_name):\n",
    "    \n",
    "    \"\"\"\n",
    "    trained_model: ModelHMM object with trained model\n",
    "    test_file_path: path to wav file\n",
    "    \"\"\"\n",
    "    # empty list to hold all of the scores\n",
    "    scores = []\n",
    "    \n",
    "    # load in file from validation set and convert to mfcc features\n",
    "    fe = hmm_model_feature_extraction.feature_extraction(mixed_dir=\"../../../validation/\", sampling_freq = 20000, gcp = False)\n",
    "    loaded = fe.read(test_file_name)\n",
    "    mfcc_features = fe.return_mfcc(loaded, nfft=1200)\n",
    "    \n",
    "    # iterate through each of the trained models\n",
    "    for i in trained_models:\n",
    "        \n",
    "        # compute log likelihood score for using each of the trained models\n",
    "        sample_score = i[0][0][0].compute_score(mfcc_features)\n",
    "        scores.append(sample_score)\n",
    "        \n",
    "    predicted = scores.index(max(scores))\n",
    "    print(\"max score is:\", max(scores), \"at index:\", predicted)\n",
    "    predicted = trained_models[predicted][0][1]\n",
    "   \n",
    "    return predicted"
   ]
  },
  {
   "cell_type": "code",
   "execution_count": null,
   "metadata": {},
   "outputs": [],
   "source": [
    "# load model from pkl\n",
    "\n",
    "if gcp == True:\n",
    "    \n",
    "    with fs.open('ad-bucket-15730/hmm_models/model_{}.pkl'.format(trial_name), 'rb') as file:\n",
    "        asdf = pickle.load(file)\n",
    "        \n",
    "else:\n",
    "\n",
    "    trained_models = joblib.load(hmm_model_dir+'/model_{}.pkl'.format(trial_name))"
   ]
  },
  {
   "cell_type": "code",
   "execution_count": null,
   "metadata": {},
   "outputs": [],
   "source": [
    "trained_models"
   ]
  },
  {
   "cell_type": "code",
   "execution_count": null,
   "metadata": {},
   "outputs": [],
   "source": [
    "# load in validation samples:\n",
    "\n",
    "if use_files_locally == True:\n",
    "    \n",
    "    f = open('ad-bucket-15730/hmm_models/validation_samples_{}.txt'.format(trial_name),'r')\n",
    "    validation_samples = f.readlines()\n",
    "    f.close()\n",
    "    validation_samples = [literal_eval(validation_samples[i]) for i in range(len(validation_samples))]    \n",
    "\n",
    "else:\n",
    "    \n",
    "    f = fs.open('ad-bucket-15730/hmm_models/validation_samples_{}.txt'.format(trial_name),'r')\n",
    "    validation_samples = f.readlines()\n",
    "    f.close()\n",
    "    validation_samples = [literal_eval(validation_samples[i]) for i in range(len(validation_samples))]"
   ]
  },
  {
   "cell_type": "code",
   "execution_count": null,
   "metadata": {},
   "outputs": [],
   "source": [
    "points = 0\n",
    "validation_list = []\n",
    "\n",
    "for i in tqdm(range(len(validation_samples))):\n",
    "    \n",
    "    print(\"validation sample size: \", len(validation_samples))\n",
    "    actual = validation_samples[i][1]\n",
    "    print(\"actual:\", actual)\n",
    "    predicted = score_one_sample(trained_models, validation_samples[i][0])\n",
    "    print(\"predicted:\", predicted)\n",
    "    validation_list.append((actual,predicted))\n",
    "    if actual == predicted:\n",
    "        \n",
    "        points += 1\n",
    "        print(\"scored a point!\")\n",
    "        print(points, \"points\")"
   ]
  },
  {
   "cell_type": "code",
   "execution_count": null,
   "metadata": {},
   "outputs": [],
   "source": [
    "# print overall accuracy\n",
    "\n",
    "overall_accuracy = points/len(validation_samples)\n",
    "overall_accuracy"
   ]
  },
  {
   "cell_type": "code",
   "execution_count": null,
   "metadata": {},
   "outputs": [],
   "source": [
    "validation_performance_df = pd.DataFrame(validation_list, columns = ['actual', 'predicted']) "
   ]
  },
  {
   "cell_type": "code",
   "execution_count": null,
   "metadata": {},
   "outputs": [],
   "source": [
    "# save validation performance to hmm_models\n",
    "\n",
    "if gcp == True:\n",
    "    \n",
    "    validation_performance_df.to_csv(hmm_model_dir + '/validation_performance_{}.csv'.format(trial_name))\n",
    "    label_states.to_csv(hmm_model_dir + '/label_states_{}.csv'.format(trial_name))\n",
    "    \n",
    "else:\n",
    "    \n",
    "    validation_performance_df.to_csv(hmm_model_dir + '/validation_performance_{}.csv'.format(trial_name))\n",
    "    label_states.to_csv(hmm_model_dir + '/label_states_{}.csv'.format(trial_name))"
   ]
  },
  {
   "cell_type": "code",
   "execution_count": null,
   "metadata": {},
   "outputs": [],
   "source": []
  },
  {
   "cell_type": "code",
   "execution_count": null,
   "metadata": {},
   "outputs": [],
   "source": []
  }
 ],
 "metadata": {
  "kernelspec": {
   "display_name": "Python 3",
   "language": "python",
   "name": "python3"
  },
  "language_info": {
   "codemirror_mode": {
    "name": "ipython",
    "version": 3
   },
   "file_extension": ".py",
   "mimetype": "text/x-python",
   "name": "python",
   "nbconvert_exporter": "python",
   "pygments_lexer": "ipython3",
   "version": "3.7.4"
  }
 },
 "nbformat": 4,
 "nbformat_minor": 4
}
