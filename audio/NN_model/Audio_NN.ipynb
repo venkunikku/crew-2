{
 "cells": [
  {
   "cell_type": "code",
   "execution_count": 10,
   "metadata": {},
   "outputs": [],
   "source": [
    "import glob\n",
    "import os\n",
    "import librosa\n",
    "import numpy as np\n",
    "import matplotlib.pyplot as plt\n",
    "from matplotlib.pyplot import specgram\n",
    "\n"
   ]
  },
  {
   "cell_type": "code",
   "execution_count": 53,
   "metadata": {},
   "outputs": [],
   "source": [
    "def extract_feature(file_name):\n",
    "    X, sample_rate = librosa.load(file_name)\n",
    "    stft = np.abs(librosa.stft(X))\n",
    "    mfccs = np.mean(librosa.feature.mfcc(y=X, sr=sample_rate, n_mfcc=40).T,axis=0)\n",
    "    chroma = np.mean(librosa.feature.chroma_stft(S=stft, sr=sample_rate).T,axis=0)\n",
    "    mel = np.mean(librosa.feature.melspectrogram(X, sr=sample_rate).T,axis=0)\n",
    "    contrast = np.mean(librosa.feature.spectral_contrast(S=stft, sr=sample_rate).T,axis=0)\n",
    "    tonnetz = np.mean(librosa.feature.tonnetz(y=librosa.effects.harmonic(X), sr=sample_rate).T,axis=0)\n",
    "    return mfccs,chroma,mel,contrast,tonnetz"
   ]
  },
  {
   "cell_type": "code",
   "execution_count": 54,
   "metadata": {},
   "outputs": [],
   "source": [
    "def one_hot_encode(labels):\n",
    "    n_labels = len(labels)\n",
    "    n_unique_labels = len(np.unique(labels))\n",
    "    one_hot_encode = np.zeros((n_labels,n_unique_labels))\n",
    "    one_hot_encode[np.arange(n_labels), labels] = 1\n",
    "    return one_hot_encode"
   ]
  },
  {
   "cell_type": "code",
   "execution_count": 55,
   "metadata": {},
   "outputs": [
    {
     "name": "stderr",
     "output_type": "stream",
     "text": [
      "C:\\Users\\kailf\\Anaconda3\\lib\\site-packages\\scipy\\sparse\\lil.py:514: FutureWarning: future versions will not create a writeable array from broadcast_array. Set the writable flag explicitly to avoid this warning.\n",
      "  if not j.flags.writeable or j.dtype not in (np.int32, np.int64):\n",
      "C:\\Users\\kailf\\AppData\\Roaming\\Python\\Python37\\site-packages\\librosa\\core\\pitch.py:146: UserWarning: Trying to estimate tuning from empty frequency set.\n",
      "  warnings.warn('Trying to estimate tuning from empty frequency set.')\n"
     ]
    }
   ],
   "source": [
    "meta_data = pd.read_csv('../mixed/mixed_metadata.csv')\n",
    "\n",
    "#x = []\n",
    "#sr = []\n",
    "audio_class = []\n",
    "folder_name = '../mixed/'\n",
    "features, labels = np.empty((0,193)), np.empty(0)\n",
    "\n",
    "for filename in os.listdir(folder_name):\n",
    "    if filename != \"mixed_metadata.csv\":\n",
    "        file = os.path.join(folder_name, filename)\n",
    "\n",
    "        \n",
    "        mfccs, chroma, mel, contrast,tonnetz = extract_feature(file)\n",
    "        ext_features = np.hstack([mfccs,chroma,mel,contrast,tonnetz])\n",
    "        features = np.vstack([features,ext_features])\n",
    "\n",
    "        temp_index = meta_data[meta_data['slice_file_name'] == filename].index\n",
    "        audio_class.append(meta_data['classID'][temp_index[0]])\n"
   ]
  },
  {
   "cell_type": "code",
   "execution_count": 197,
   "metadata": {},
   "outputs": [
    {
     "data": {
      "text/plain": [
       "array(['air_conditioner', 'car_horn', 'children_playing', 'dog_bark',\n",
       "       'drilling', 'engine_idling', 'gun_shot', 'jackhammer', 'siren',\n",
       "       'street_music'], dtype=object)"
      ]
     },
     "execution_count": 197,
     "metadata": {},
     "output_type": "execute_result"
    }
   ],
   "source": [
    "np.unique(meta_data['class'])"
   ]
  },
  {
   "cell_type": "code",
   "execution_count": null,
   "metadata": {},
   "outputs": [],
   "source": [
    "pd.DataFrame(np.array([[1, 2, 3], [4, 5, 6], [7, 8, 9]]),\n",
    "                   columns=['a', 'b', 'c'])"
   ]
  },
  {
   "cell_type": "code",
   "execution_count": 224,
   "metadata": {},
   "outputs": [],
   "source": [
    "class_name = ([0 , 'air_conditioner'], [1, 'car_horn'], [2, 'children_playing'], [3, 'dog_bark'], \n",
    "                          [4, 'drilling'], [5, 'engine_idling'], [6, 'gun_shot'], [7, 'jackhammer'], \n",
    "                          [8, 'siren'], [9, 'street_music'])"
   ]
  },
  {
   "cell_type": "code",
   "execution_count": 225,
   "metadata": {},
   "outputs": [
    {
     "data": {
      "text/plain": [
       "([0, 'air_conditioner'],\n",
       " [1, 'car_horn'],\n",
       " [2, 'children_playing'],\n",
       " [3, 'dog_bark'],\n",
       " [4, 'drilling'],\n",
       " [5, 'engine_idling'],\n",
       " [6, 'gun_shot'],\n",
       " [7, 'jackhammer'],\n",
       " [8, 'siren'],\n",
       " [9, 'street_music'])"
      ]
     },
     "execution_count": 225,
     "metadata": {},
     "output_type": "execute_result"
    }
   ],
   "source": [
    "class_name"
   ]
  },
  {
   "cell_type": "code",
   "execution_count": 68,
   "metadata": {},
   "outputs": [
    {
     "data": {
      "text/plain": [
       "['features_arrary.sav']"
      ]
     },
     "execution_count": 68,
     "metadata": {},
     "output_type": "execute_result"
    }
   ],
   "source": [
    "from sklearn.externals import joblib\n",
    "filename = 'features_arrary.sav'\n",
    "joblib.dump(features, filename)  "
   ]
  },
  {
   "cell_type": "code",
   "execution_count": 63,
   "metadata": {},
   "outputs": [
    {
     "data": {
      "text/plain": [
       "['audio_class.sav']"
      ]
     },
     "execution_count": 63,
     "metadata": {},
     "output_type": "execute_result"
    }
   ],
   "source": [
    "from sklearn.externals import joblib\n",
    "filename = 'audio_class.sav'\n",
    "joblib.dump(audio_class, filename)  "
   ]
  },
  {
   "cell_type": "code",
   "execution_count": 67,
   "metadata": {},
   "outputs": [],
   "source": [
    "features = np.array(features)"
   ]
  },
  {
   "cell_type": "code",
   "execution_count": 69,
   "metadata": {},
   "outputs": [
    {
     "data": {
      "text/plain": [
       "(26196, 193)"
      ]
     },
     "execution_count": 69,
     "metadata": {},
     "output_type": "execute_result"
    }
   ],
   "source": [
    "features.shape"
   ]
  },
  {
   "cell_type": "code",
   "execution_count": 73,
   "metadata": {},
   "outputs": [],
   "source": [
    "labels = one_hot_encode(audio_class)"
   ]
  },
  {
   "cell_type": "code",
   "execution_count": 77,
   "metadata": {},
   "outputs": [
    {
     "data": {
      "text/plain": [
       "(26196, 10)"
      ]
     },
     "execution_count": 77,
     "metadata": {},
     "output_type": "execute_result"
    }
   ],
   "source": [
    "labels.shape"
   ]
  },
  {
   "cell_type": "code",
   "execution_count": 99,
   "metadata": {},
   "outputs": [],
   "source": [
    "from sklearn.model_selection import train_test_split\n",
    "from sklearn.preprocessing  import StandardScaler\n",
    "\n",
    "train_x_temp, test_x, train_y_temp, test_y = train_test_split(features, labels, test_size=0.2, random_state=0)\n",
    "train_x, valid_x, train_y, valid_y = train_test_split(train_x_temp, train_y_temp, test_size=0.2, random_state=0)\n",
    "\n",
    "sc = StandardScaler()\n",
    "sc.fit(train_x)\n",
    "\n",
    "\n",
    "train_x = sc.transform(train_x)\n",
    "valid_x = sc.transform(valid_x)\n",
    "test_x = sc.transform(test_x)"
   ]
  },
  {
   "cell_type": "code",
   "execution_count": 96,
   "metadata": {},
   "outputs": [
    {
     "data": {
      "text/plain": [
       "((16764, 193), (4192, 193), (5240, 193))"
      ]
     },
     "execution_count": 96,
     "metadata": {},
     "output_type": "execute_result"
    }
   ],
   "source": [
    "train_x.shape, valid_x.shape, test_x.shape"
   ]
  },
  {
   "cell_type": "code",
   "execution_count": null,
   "metadata": {},
   "outputs": [],
   "source": []
  },
  {
   "cell_type": "code",
   "execution_count": 101,
   "metadata": {},
   "outputs": [],
   "source": [
    "import matplotlib.pyplot as plt\n",
    "from scipy import stats\n",
    "import tensorflow as tf\n",
    "import seaborn as sns\n",
    "from pylab import rcParams\n",
    "from sklearn.model_selection import train_test_split\n",
    "from sklearn.linear_model import LogisticRegression\n",
    "from sklearn.metrics import mean_squared_error\n",
    "import h5py\n",
    "from keras.models import Model, load_model\n",
    "from keras.layers import Input, Dense, BatchNormalization, Dropout\n",
    "from keras.callbacks import ModelCheckpoint, EarlyStopping\n",
    "from keras import regularizers"
   ]
  },
  {
   "cell_type": "code",
   "execution_count": 91,
   "metadata": {},
   "outputs": [],
   "source": [
    "model=Sequential()"
   ]
  },
  {
   "cell_type": "code",
   "execution_count": 92,
   "metadata": {},
   "outputs": [],
   "source": [
    "model.add(Dense(units=400,activation='relu',input_dim=193))\n",
    "model.add(Dropout(0.4))\n",
    "model.add(Dense(units=500,activation='relu'))\n",
    "model.add(Dropout(0.4))\n",
    "model.add(Dense(units=400,activation='relu'))\n",
    "model.add(Dropout(0.4))\n",
    "model.add(Dense(units=10,activation='softmax'))"
   ]
  },
  {
   "cell_type": "code",
   "execution_count": 93,
   "metadata": {},
   "outputs": [],
   "source": [
    "model.compile(optimizer='adam',loss='categorical_crossentropy',metrics=['accuracy'])"
   ]
  },
  {
   "cell_type": "code",
   "execution_count": 94,
   "metadata": {},
   "outputs": [
    {
     "name": "stdout",
     "output_type": "stream",
     "text": [
      "Model: \"sequential_3\"\n",
      "_________________________________________________________________\n",
      "Layer (type)                 Output Shape              Param #   \n",
      "=================================================================\n",
      "dense_1 (Dense)              (None, 400)               77600     \n",
      "_________________________________________________________________\n",
      "dropout_1 (Dropout)          (None, 400)               0         \n",
      "_________________________________________________________________\n",
      "dense_2 (Dense)              (None, 500)               200500    \n",
      "_________________________________________________________________\n",
      "dropout_2 (Dropout)          (None, 500)               0         \n",
      "_________________________________________________________________\n",
      "dense_3 (Dense)              (None, 400)               200400    \n",
      "_________________________________________________________________\n",
      "dropout_3 (Dropout)          (None, 400)               0         \n",
      "_________________________________________________________________\n",
      "dense_4 (Dense)              (None, 10)                4010      \n",
      "=================================================================\n",
      "Total params: 482,510\n",
      "Trainable params: 482,510\n",
      "Non-trainable params: 0\n",
      "_________________________________________________________________\n"
     ]
    }
   ],
   "source": [
    "model.summary()"
   ]
  },
  {
   "cell_type": "code",
   "execution_count": null,
   "metadata": {},
   "outputs": [],
   "source": [
    "model.fit(x_train,y_train,epochs=30,validation_data=(x_test,y_test),batch_size=50)"
   ]
  },
  {
   "cell_type": "code",
   "execution_count": 102,
   "metadata": {},
   "outputs": [
    {
     "name": "stdout",
     "output_type": "stream",
     "text": [
      "Train on 16764 samples, validate on 4192 samples\n",
      "Epoch 1/150\n",
      "16764/16764 [==============================] - 5s 281us/step - loss: 1.4877 - accuracy: 0.5057 - val_loss: 1.0231 - val_accuracy: 0.6605\n",
      "Epoch 2/150\n",
      "16764/16764 [==============================] - 4s 245us/step - loss: 1.0372 - accuracy: 0.6571 - val_loss: 0.8363 - val_accuracy: 0.7443\n",
      "Epoch 3/150\n",
      "16764/16764 [==============================] - 4s 248us/step - loss: 0.8945 - accuracy: 0.7030 - val_loss: 0.7215 - val_accuracy: 0.7722\n",
      "Epoch 4/150\n",
      "16764/16764 [==============================] - 4s 249us/step - loss: 0.7796 - accuracy: 0.7421 - val_loss: 0.6746 - val_accuracy: 0.7803\n",
      "Epoch 5/150\n",
      "16764/16764 [==============================] - 4s 252us/step - loss: 0.7168 - accuracy: 0.7617 - val_loss: 0.6085 - val_accuracy: 0.8053\n",
      "Epoch 6/150\n",
      "16764/16764 [==============================] - 4s 255us/step - loss: 0.6779 - accuracy: 0.7744 - val_loss: 0.5515 - val_accuracy: 0.8201\n",
      "Epoch 7/150\n",
      "16764/16764 [==============================] - 4s 255us/step - loss: 0.6248 - accuracy: 0.7906 - val_loss: 0.5333 - val_accuracy: 0.8225\n",
      "Epoch 8/150\n",
      "16764/16764 [==============================] - 4s 257us/step - loss: 0.5864 - accuracy: 0.8008 - val_loss: 0.5002 - val_accuracy: 0.8352\n",
      "Epoch 9/150\n",
      "16764/16764 [==============================] - 5s 273us/step - loss: 0.5731 - accuracy: 0.8061 - val_loss: 0.5173 - val_accuracy: 0.8371\n",
      "Epoch 10/150\n",
      "16764/16764 [==============================] - 5s 275us/step - loss: 0.5506 - accuracy: 0.8168 - val_loss: 0.4870 - val_accuracy: 0.8411\n",
      "Epoch 11/150\n",
      "16764/16764 [==============================] - 5s 275us/step - loss: 0.5348 - accuracy: 0.8222 - val_loss: 0.4717 - val_accuracy: 0.8542\n",
      "Epoch 12/150\n",
      "16764/16764 [==============================] - 5s 274us/step - loss: 0.5210 - accuracy: 0.8310 - val_loss: 0.4700 - val_accuracy: 0.8414\n",
      "Epoch 13/150\n",
      "16764/16764 [==============================] - 4s 268us/step - loss: 0.4906 - accuracy: 0.8386 - val_loss: 0.4627 - val_accuracy: 0.8547\n",
      "Epoch 14/150\n",
      "16764/16764 [==============================] - 5s 270us/step - loss: 0.4911 - accuracy: 0.8371 - val_loss: 0.4459 - val_accuracy: 0.8616\n",
      "Epoch 15/150\n",
      "16764/16764 [==============================] - 4s 239us/step - loss: 0.4568 - accuracy: 0.8459 - val_loss: 0.4374 - val_accuracy: 0.8647\n",
      "Epoch 16/150\n",
      "16764/16764 [==============================] - 4s 239us/step - loss: 0.4826 - accuracy: 0.8428 - val_loss: 0.4295 - val_accuracy: 0.8671\n",
      "Epoch 17/150\n",
      "16764/16764 [==============================] - 5s 276us/step - loss: 0.4289 - accuracy: 0.8500 - val_loss: 0.4211 - val_accuracy: 0.8669\n",
      "Epoch 18/150\n",
      "16764/16764 [==============================] - 5s 287us/step - loss: 0.4327 - accuracy: 0.8524 - val_loss: 0.4164 - val_accuracy: 0.8707\n",
      "Epoch 19/150\n",
      "16764/16764 [==============================] - 4s 240us/step - loss: 0.4321 - accuracy: 0.8546 - val_loss: 0.4067 - val_accuracy: 0.8714\n",
      "Epoch 20/150\n",
      "16764/16764 [==============================] - 4s 238us/step - loss: 0.4401 - accuracy: 0.8533 - val_loss: 0.4219 - val_accuracy: 0.8764\n",
      "Epoch 21/150\n",
      "16764/16764 [==============================] - 4s 242us/step - loss: 0.3948 - accuracy: 0.8635 - val_loss: 0.4059 - val_accuracy: 0.8755\n",
      "Epoch 22/150\n",
      "16764/16764 [==============================] - 4s 240us/step - loss: 0.4396 - accuracy: 0.8572 - val_loss: 0.3815 - val_accuracy: 0.8729\n",
      "Epoch 23/150\n",
      "16764/16764 [==============================] - 4s 243us/step - loss: 0.4070 - accuracy: 0.8657 - val_loss: 0.3988 - val_accuracy: 0.8791\n",
      "Epoch 24/150\n",
      "16764/16764 [==============================] - 4s 243us/step - loss: 0.4015 - accuracy: 0.8629 - val_loss: 0.3791 - val_accuracy: 0.8812\n",
      "Epoch 25/150\n",
      "16764/16764 [==============================] - 4s 241us/step - loss: 0.3744 - accuracy: 0.8707 - val_loss: 0.3852 - val_accuracy: 0.8826\n",
      "Epoch 26/150\n",
      "16764/16764 [==============================] - 4s 250us/step - loss: 0.3885 - accuracy: 0.8690 - val_loss: 0.3677 - val_accuracy: 0.8855\n",
      "Epoch 27/150\n",
      "16764/16764 [==============================] - 4s 245us/step - loss: 0.3697 - accuracy: 0.8746 - val_loss: 0.3808 - val_accuracy: 0.8800\n",
      "Epoch 28/150\n",
      "16764/16764 [==============================] - 4s 243us/step - loss: 0.3695 - accuracy: 0.8769 - val_loss: 0.3808 - val_accuracy: 0.8929\n"
     ]
    }
   ],
   "source": [
    "nb_epoch = 150\n",
    "batch_size = 32\n",
    "\n",
    "checkpointer = ModelCheckpoint(filepath=\"4_8_NN.h5\",\n",
    "                               verbose=0,\n",
    "                               save_best_only=True)\n",
    "\n",
    "earlystopping = EarlyStopping(monitor='val_loss', patience=2, verbose=0) # 'patience' number of not improving epochs\n",
    "\n",
    "history = model.fit(train_x, train_y,\n",
    "                    epochs=nb_epoch,\n",
    "                    batch_size=batch_size,\n",
    "                    shuffle=True,\n",
    "                    validation_data=(valid_x, valid_y),\n",
    "                    verbose=1,\n",
    "                    callbacks=[checkpointer, #tensorboard, \n",
    "                               earlystopping]).history"
   ]
  },
  {
   "cell_type": "code",
   "execution_count": null,
   "metadata": {},
   "outputs": [],
   "source": []
  },
  {
   "cell_type": "code",
   "execution_count": 103,
   "metadata": {},
   "outputs": [],
   "source": [
    "predit_y = model.predict(test_x)"
   ]
  },
  {
   "cell_type": "code",
   "execution_count": 104,
   "metadata": {},
   "outputs": [
    {
     "data": {
      "text/plain": [
       "array([[3.6654751e-14, 7.8250151e-10, 3.6940939e-08, ..., 8.3407605e-15,\n",
       "        3.4723479e-07, 9.9999964e-01],\n",
       "       [4.6948293e-25, 5.3924829e-21, 1.4348701e-19, ..., 1.5812973e-35,\n",
       "        1.0000000e+00, 1.1813175e-14],\n",
       "       [8.7416673e-04, 7.6493260e-04, 1.6314220e-02, ..., 2.5681002e-04,\n",
       "        1.5521420e-02, 8.6121596e-03],\n",
       "       ...,\n",
       "       [1.5003501e-15, 1.3204537e-10, 9.9981850e-01, ..., 1.1620793e-19,\n",
       "        3.0540549e-11, 2.8693546e-06],\n",
       "       [9.9996924e-01, 2.8379576e-08, 3.1184801e-08, ..., 1.0289728e-10,\n",
       "        6.4888432e-08, 2.5297359e-07],\n",
       "       [5.5890232e-17, 2.4550109e-16, 9.9989259e-01, ..., 2.1594463e-21,\n",
       "        2.6886187e-09, 2.0912441e-09]], dtype=float32)"
      ]
     },
     "execution_count": 104,
     "metadata": {},
     "output_type": "execute_result"
    }
   ],
   "source": [
    "predit_y"
   ]
  },
  {
   "cell_type": "code",
   "execution_count": 191,
   "metadata": {},
   "outputs": [],
   "source": [
    "test_class = []\n",
    "for i in range(len(test_y)):\n",
    "    temp = np.where(test_y[i] == 1)\n",
    "    test_class.append(int(temp[0]))\n",
    "    \n",
    "pred_class = []\n",
    "for i in range(len(test_y)):\n",
    "    temp_max = max(predit_y[i])\n",
    "    temp = np.where(predit_y[i] == temp_max)\n",
    "    pred_class.append(int(temp[0]))"
   ]
  },
  {
   "cell_type": "code",
   "execution_count": 227,
   "metadata": {},
   "outputs": [
    {
     "name": "stdout",
     "output_type": "stream",
     "text": [
      "              precision    recall  f1-score   support\n",
      "\n",
      "           0       0.96      0.90      0.93       605\n",
      "           1       0.95      0.92      0.93       261\n",
      "           2       0.68      0.87      0.76       617\n",
      "           3       0.93      0.71      0.80       631\n",
      "           4       0.95      0.93      0.94       616\n",
      "           5       0.96      0.94      0.95       589\n",
      "           6       0.89      0.84      0.86       217\n",
      "           7       0.97      0.96      0.96       571\n",
      "           8       0.79      0.92      0.85       546\n",
      "           9       0.90      0.85      0.87       587\n",
      "\n",
      "    accuracy                           0.88      5240\n",
      "   macro avg       0.90      0.88      0.89      5240\n",
      "weighted avg       0.89      0.88      0.89      5240\n",
      "\n"
     ]
    }
   ],
   "source": [
    "from sklearn.metrics import classification_report\n",
    "\n",
    "print(classification_report(test_class, pred_class))"
   ]
  },
  {
   "cell_type": "code",
   "execution_count": 228,
   "metadata": {},
   "outputs": [
    {
     "data": {
      "text/plain": [
       "([0, 'air_conditioner'],\n",
       " [1, 'car_horn'],\n",
       " [2, 'children_playing'],\n",
       " [3, 'dog_bark'],\n",
       " [4, 'drilling'],\n",
       " [5, 'engine_idling'],\n",
       " [6, 'gun_shot'],\n",
       " [7, 'jackhammer'],\n",
       " [8, 'siren'],\n",
       " [9, 'street_music'])"
      ]
     },
     "execution_count": 228,
     "metadata": {},
     "output_type": "execute_result"
    }
   ],
   "source": [
    "class_name"
   ]
  },
  {
   "cell_type": "code",
   "execution_count": null,
   "metadata": {},
   "outputs": [],
   "source": []
  }
 ],
 "metadata": {
  "kernelspec": {
   "display_name": "Python 3",
   "language": "python",
   "name": "python3"
  },
  "language_info": {
   "codemirror_mode": {
    "name": "ipython",
    "version": 3
   },
   "file_extension": ".py",
   "mimetype": "text/x-python",
   "name": "python",
   "nbconvert_exporter": "python",
   "pygments_lexer": "ipython3",
   "version": "3.7.0"
  }
 },
 "nbformat": 4,
 "nbformat_minor": 2
}
